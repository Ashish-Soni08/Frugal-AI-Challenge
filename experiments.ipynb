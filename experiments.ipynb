{
 "cells": [
  {
   "cell_type": "markdown",
   "metadata": {},
   "source": [
    "# Detecting Climate Disinformation based on text from news articles : Explore the Data "
   ]
  },
  {
   "cell_type": "markdown",
   "metadata": {},
   "source": [
    "## Import Python Packages"
   ]
  },
  {
   "cell_type": "code",
   "execution_count": 2,
   "metadata": {},
   "outputs": [
    {
     "name": "stdout",
     "output_type": "stream",
     "text": [
      "All packages imported successfully!\n"
     ]
    }
   ],
   "source": [
    "from datasets import (load_dataset_builder,\n",
    "                      load_dataset,\n",
    "                      get_dataset_split_names)\n",
    "import numpy as np\n",
    "import pandas as pd\n",
    "\n",
    "from tqdm import tqdm\n",
    "\n",
    "import matplotlib.pyplot as plt\n",
    "plt.style.use('ggplot')\n",
    "\n",
    "from pprint import pprint\n",
    "\n",
    "print('All packages imported successfully!')"
   ]
  },
  {
   "cell_type": "markdown",
   "metadata": {},
   "source": [
    "## Explore the Dataset"
   ]
  },
  {
   "cell_type": "code",
   "execution_count": 3,
   "metadata": {},
   "outputs": [],
   "source": [
    "ds_builder = load_dataset_builder(\"QuotaClimat/frugalaichallenge-text-train\")"
   ]
  },
  {
   "cell_type": "code",
   "execution_count": 4,
   "metadata": {},
   "outputs": [
    {
     "data": {
      "text/plain": [
       "['train']"
      ]
     },
     "execution_count": 4,
     "metadata": {},
     "output_type": "execute_result"
    }
   ],
   "source": [
    "# Inspect the number of splits available for the dataset\n",
    "\n",
    "get_dataset_split_names(\"QuotaClimat/frugalaichallenge-text-train\")"
   ]
  },
  {
   "cell_type": "code",
   "execution_count": 5,
   "metadata": {},
   "outputs": [
    {
     "data": {
      "text/plain": [
       "{'quote': Value(dtype='string', id=None),\n",
       " 'label': Value(dtype='string', id=None),\n",
       " 'source': Value(dtype='string', id=None),\n",
       " 'url': Value(dtype='string', id=None),\n",
       " 'language': Value(dtype='string', id=None),\n",
       " 'subsource': Value(dtype='string', id=None),\n",
       " 'id': Value(dtype='null', id=None),\n",
       " '__index_level_0__': Value(dtype='int64', id=None)}"
      ]
     },
     "execution_count": 5,
     "metadata": {},
     "output_type": "execute_result"
    }
   ],
   "source": [
    "# Inspect dataset features\n",
    "\n",
    "ds_builder.info.features"
   ]
  },
  {
   "cell_type": "code",
   "execution_count": 6,
   "metadata": {},
   "outputs": [],
   "source": [
    "# Download the dataset \n",
    "\n",
    "dataset = load_dataset(\"QuotaClimat/frugalaichallenge-text-train\", split=\"train\")"
   ]
  },
  {
   "cell_type": "code",
   "execution_count": 7,
   "metadata": {},
   "outputs": [
    {
     "name": "stdout",
     "output_type": "stream",
     "text": [
      "ROWS: 6091\n",
      "COLUMNS: 8\n"
     ]
    }
   ],
   "source": [
    "print(f\"ROWS: {dataset.num_rows}\")\n",
    "print(f\"COLUMNS: {dataset.num_columns}\")"
   ]
  },
  {
   "cell_type": "code",
   "execution_count": 8,
   "metadata": {},
   "outputs": [
    {
     "name": "stdout",
     "output_type": "stream",
     "text": [
      "COLUMN NAMES: ['quote', 'label', 'source', 'url', 'language', 'subsource', 'id', '__index_level_0__']\n"
     ]
    }
   ],
   "source": [
    "print(f\"COLUMN NAMES: {dataset.column_names}\")"
   ]
  },
  {
   "cell_type": "code",
   "execution_count": 9,
   "metadata": {},
   "outputs": [
    {
     "name": "stdout",
     "output_type": "stream",
     "text": [
      "{'__index_level_0__': 0,\n",
      " 'id': None,\n",
      " 'label': '5_science_unreliable',\n",
      " 'language': 'en',\n",
      " 'quote': 'There is clear, compelling evidence that many of the major '\n",
      "          'conclusions of the IPCC, your new religions constantly-changing '\n",
      "          'Holy Book, are based on evidence that has been fabricated. The '\n",
      "          'hockey stick graph that purported to abolish the mediaeval warm '\n",
      "          'period is just one example.',\n",
      " 'source': 'FLICC',\n",
      " 'subsource': 'CARDS',\n",
      " 'url': 'https://huggingface.co/datasets/fzanartu/FLICCdataset'}\n"
     ]
    }
   ],
   "source": [
    "# EXAMPLE ROW\n",
    "pprint(dataset[0])"
   ]
  },
  {
   "cell_type": "code",
   "execution_count": 10,
   "metadata": {},
   "outputs": [
    {
     "data": {
      "text/plain": [
       "['en']"
      ]
     },
     "execution_count": 10,
     "metadata": {},
     "output_type": "execute_result"
    }
   ],
   "source": [
    "# Get unique values from the 'language' column\n",
    "dataset.unique('language')"
   ]
  },
  {
   "cell_type": "code",
   "execution_count": 11,
   "metadata": {},
   "outputs": [
    {
     "data": {
      "text/plain": [
       "780"
      ]
     },
     "execution_count": 11,
     "metadata": {},
     "output_type": "execute_result"
    }
   ],
   "source": [
    "# Get the count of unique URLs\n",
    "len(dataset.unique('url'))"
   ]
  },
  {
   "cell_type": "code",
   "execution_count": 12,
   "metadata": {},
   "outputs": [
    {
     "data": {
      "text/plain": [
       "['FLICC', 'Desmog']"
      ]
     },
     "execution_count": 12,
     "metadata": {},
     "output_type": "execute_result"
    }
   ],
   "source": [
    "# Get unique values from the 'source' column\n",
    "dataset.unique('source')"
   ]
  },
  {
   "cell_type": "code",
   "execution_count": 13,
   "metadata": {},
   "outputs": [
    {
     "data": {
      "text/plain": [
       "['CARDS',\n",
       " 'hamburg_test1',\n",
       " 'hamburg_test3',\n",
       " 'jindev',\n",
       " 'jintrain',\n",
       " 'hamburg_test2',\n",
       " 'Alhindi_train',\n",
       " 'jintest',\n",
       " 'Alhindi_dev',\n",
       " 'Alhindi_test',\n",
       " None]"
      ]
     },
     "execution_count": 13,
     "metadata": {},
     "output_type": "execute_result"
    }
   ],
   "source": [
    "# Get unique values from the 'subsource' column\n",
    "dataset.unique('subsource')"
   ]
  },
  {
   "cell_type": "code",
   "execution_count": 14,
   "metadata": {},
   "outputs": [
    {
     "data": {
      "text/plain": [
       "6091"
      ]
     },
     "execution_count": 14,
     "metadata": {},
     "output_type": "execute_result"
    }
   ],
   "source": [
    "# Get the count of unique quotes\n",
    "len(dataset.unique('quote'))"
   ]
  },
  {
   "cell_type": "code",
   "execution_count": 15,
   "metadata": {},
   "outputs": [
    {
     "data": {
      "text/plain": [
       "['5_science_unreliable',\n",
       " '1_not_happening',\n",
       " '4_solutions_harmful_unnecessary',\n",
       " '0_not_relevant',\n",
       " '6_proponents_biased',\n",
       " '7_fossil_fuels_needed',\n",
       " '2_not_human',\n",
       " '3_not_bad']"
      ]
     },
     "execution_count": 15,
     "metadata": {},
     "output_type": "execute_result"
    }
   ],
   "source": [
    "# Get unique values from the 'label' column\n",
    "dataset.unique('label')"
   ]
  },
  {
   "cell_type": "code",
   "execution_count": 16,
   "metadata": {},
   "outputs": [
    {
     "data": {
      "text/plain": [
       "[None]"
      ]
     },
     "execution_count": 16,
     "metadata": {},
     "output_type": "execute_result"
    }
   ],
   "source": [
    "# Get unique values from the 'id' column\n",
    "dataset.unique('id')"
   ]
  },
  {
   "cell_type": "code",
   "execution_count": 17,
   "metadata": {},
   "outputs": [
    {
     "data": {
      "text/plain": [
       "6091"
      ]
     },
     "execution_count": 17,
     "metadata": {},
     "output_type": "execute_result"
    }
   ],
   "source": [
    "# Get the count of unique index values.\n",
    "len(dataset.unique('__index_level_0__'))"
   ]
  },
  {
   "cell_type": "markdown",
   "metadata": {},
   "source": [
    "We would like to understand some properties of the data. As a start, let's analyze the lengths of different sentences in the  `quote` column. \n",
    "We will make a histogram of the number of words in each quote over the full corpus."
   ]
  },
  {
   "cell_type": "code",
   "execution_count": 18,
   "metadata": {},
   "outputs": [],
   "source": [
    "def make_histogram(dataset):\n",
    "  \n",
    "  num_tokens = []  # each sentence should add an integer to this list.\n",
    "\n",
    "  # Make a histogram of the lengths of sentences in the dataset.\n",
    "  pbar = tqdm(total=len(dataset), leave=True, position=0)\n",
    "  for entry in dataset:\n",
    "    tokens = entry['quote'].split()\n",
    "    num_tokens.append(len(tokens))\n",
    "    pbar.update()\n",
    "  pbar.close()\n",
    "\n",
    "  plt.figure()\n",
    "  plt.hist(num_tokens, bins=1000)\n",
    "  plt.xlabel('Number of tokens')\n",
    "  plt.xlim(0, 1000)\n",
    "  plt.show()\n",
    "  return num_tokens"
   ]
  },
  {
   "cell_type": "code",
   "execution_count": 19,
   "metadata": {},
   "outputs": [
    {
     "name": "stderr",
     "output_type": "stream",
     "text": [
      "100%|██████████| 6091/6091 [00:00<00:00, 12120.94it/s]\n"
     ]
    },
    {
     "data": {
      "image/png": "[encoded data removed]",
      "text/plain": [
       "<Figure size 640x480 with 1 Axes>"
      ]
     },
     "metadata": {},
     "output_type": "display_data"
    }
   ],
   "source": [
    "num_tokens = make_histogram(dataset)"
   ]
  },
  {
   "cell_type": "code",
   "execution_count": 20,
   "metadata": {},
   "outputs": [
    {
     "name": "stdout",
     "output_type": "stream",
     "text": [
      "1 quotes have 3 tokens.\n",
      "1 quotes has 789 tokens.\n"
     ]
    }
   ],
   "source": [
    "# Q: How many words is the shortest quote and how many quotes have that length?\n",
    "\n",
    "from collections import Counter\n",
    "\n",
    "token_counter = Counter(num_tokens)\n",
    "shortest = min(num_tokens)\n",
    "longest = max(num_tokens)\n",
    "\n",
    "num_shortest = token_counter[shortest]\n",
    "num_longest = token_counter[longest]\n",
    "\n",
    "print(f'{num_shortest} quotes have {shortest} tokens.')\n",
    "print(f'{num_longest} quotes has {longest} tokens.')"
   ]
  },
  {
   "cell_type": "code",
   "execution_count": 21,
   "metadata": {},
   "outputs": [
    {
     "name": "stdout",
     "output_type": "stream",
     "text": [
      "{'__index_level_0__': 277,\n",
      " 'id': None,\n",
      " 'label': '3_not_bad',\n",
      " 'language': 'en',\n",
      " 'quote': 'reefs are improving',\n",
      " 'source': 'FLICC',\n",
      " 'subsource': 'hamburg_test3',\n",
      " 'url': 'https://huggingface.co/datasets/fzanartu/FLICCdataset'}\n"
     ]
    }
   ],
   "source": [
    "# print out the shortest entry\n",
    "for entry in dataset:\n",
    "  if len(entry['quote'].split()) == shortest:\n",
    "    pprint(entry)"
   ]
  },
  {
   "cell_type": "code",
   "execution_count": 22,
   "metadata": {},
   "outputs": [],
   "source": [
    "# print out the longest entry\n",
    "\n",
    "max_tokens = 0\n",
    "longest_quote = None\n",
    "\n",
    "for entry in dataset:\n",
    "    tokens = entry['quote'].split()\n",
    "    if len(tokens) > max_tokens:\n",
    "        longest_quote = entry['quote']\n",
    "        max_tokens = len(tokens)"
   ]
  },
  {
   "cell_type": "code",
   "execution_count": 23,
   "metadata": {},
   "outputs": [
    {
     "name": "stdout",
     "output_type": "stream",
     "text": [
      "('Hubris is a Greek word that means dangerously overconfident. Based on my '\n",
      " 'research, hubris fairly describes our current response to the issue of '\n",
      " 'climate change Here’s what many people believe One: The planet is warming '\n",
      " 'catastrophically because of certain human behaviors Two: Thanks to powerful '\n",
      " 'computers we can project what the climate will be like 20, 40, or even 100 '\n",
      " 'years from now Three: That if we eliminate just one behavior, the burning of '\n",
      " 'fossil fuels, we can prevent the climate from changing for as long we like '\n",
      " 'Each of these presumptions—together, the basis of our hubris regarding the '\n",
      " 'changing climate—is either untrue or so far off the mark as to be useless '\n",
      " 'Yes, it’s true that the globe is warming, and that humans are exerting a '\n",
      " 'warming influence upon it. But beyond that, to paraphrase a line from the '\n",
      " 'classic movie The Princess Bride, ‘I do not think “The Science” says what '\n",
      " 'you think it says. For example, government reports state clearly that heat '\n",
      " 'waves in the US are now no more common than they were in 1900 Hurricane '\n",
      " 'activity is no different than it was a century ago Floods have not increased '\n",
      " 'across the globe over more than seventy years Greenland’s ice sheet isn’t '\n",
      " 'shrinking any more rapidly today than it was 80 years ago Why aren’t these '\n",
      " 'reassuring facts better known Because the public gets its climate '\n",
      " 'information almost exclusively from the media And from a media perspective, '\n",
      " 'fear sells ‘Things aren’t that bad’ doesn’t sell Very few people, and that '\n",
      " 'includes journalists who report on climate news, read the actual science. I '\n",
      " 'have. And what the data—the hard science—from the US government and UN '\n",
      " 'Climate reports say is that… ‘things aren’t that bad. Nor does the public '\n",
      " 'understand the questionable basis of all catastrophic climate change '\n",
      " 'projections: computer modeling Projecting future climate is excruciatingly '\n",
      " 'difficult. Yes, there are human influences, but the climate is complex. '\n",
      " 'Anyone who says that climate models are “just physics” either doesn’t '\n",
      " 'understand them or is being deliberately misleading. I should know: I wrote '\n",
      " 'one of the first textbooks on computer modeling While modelers base their '\n",
      " 'assumptions upon both fundamental physical laws and observations of the '\n",
      " 'climate, there is still considerable judgment involved. And since different '\n",
      " 'modelers will make different assumptions, results vary widely among '\n",
      " 'different models Let’s just take one simple, but significant assumption '\n",
      " 'modelers must make: the impact of clouds on the climate Natural fluctuations '\n",
      " 'in the height and coverage of clouds have at least as much of an impact on '\n",
      " 'the flows of sunlight and heat as do human influences. But how can we '\n",
      " 'possibly know global cloud coverage say 10, let alone 50 years from now? '\n",
      " 'Obviously, we can’t. But to create a climate model, we have to make '\n",
      " 'assumptions. That’s a pretty shaky foundation on which to transform the '\n",
      " 'world’s economy By the way, creating more accurate models isn’t getting any '\n",
      " 'easier. In fact, the more we learn about the climate system, the more we '\n",
      " 'realize how complex it is Rather than admit this complexity, the media, the '\n",
      " 'politicians, and a good portion of the climate science community attribute '\n",
      " 'every terrible storm, every flood, every major fire to ‘climate change.’ '\n",
      " 'Yes, we’ve always had these weather events in the past, the narrative goes, '\n",
      " 'but somehow ‘climate change’ is making everything ‘worse. Even if that were '\n",
      " 'true, isn’t the relevant question, how much worse? Not to mention that '\n",
      " '‘worse’ is not exactly a scientific term And how would we make it better For '\n",
      " 'the alarmists, that’s easy: we get rid of fossil fuels Not only is this '\n",
      " 'impractical—we get over 80% of the world’s energy from fossil fuels—it’s not '\n",
      " 'scientifically possible. That’s because CO2 doesn’t disappear from the '\n",
      " 'atmosphere in a few days like, say, smog. It hangs around for a really long '\n",
      " 'time About 60 percent of any CO2 that we emit today will remain in the '\n",
      " 'atmosphere 20 years from now, between 30 and 55 percent will still be there '\n",
      " 'after a century, and between 15 and 30 percent will remain after one '\n",
      " 'thousand years In other words, it takes centuries for the excess carbon '\n",
      " 'dioxide to vanish from the atmosphere. So, any partial reductions in CO2 '\n",
      " 'emissions would only slow the increase in human influences—not prevent it, '\n",
      " 'let alone reverse it CO2 is not a knob that we can just turn down to fix '\n",
      " 'everything. We don’t have that ability. To think that we do is… hubris '\n",
      " 'Hubris leads to bad decisions A little humility and a little knowledge would '\n",
      " 'lead to better ones I’m Steve Koonin, former Undersecretary for Science in '\n",
      " 'the Obama Administration, and author of Unsettled: What Climate Science '\n",
      " 'Tells Us, What It Doesn’t, and Why It Matters, for Prager University.')\n"
     ]
    }
   ],
   "source": [
    "pprint(longest_quote)"
   ]
  },
  {
   "cell_type": "code",
   "execution_count": 24,
   "metadata": {},
   "outputs": [
    {
     "data": {
      "image/png": "[encoded data removed]",
      "text/plain": [
       "<Figure size 640x480 with 1 Axes>"
      ]
     },
     "metadata": {},
     "output_type": "display_data"
    }
   ],
   "source": [
    "# Re-plot the histogram in log frequency space.\n",
    "plt.figure()\n",
    "plt.hist(num_tokens, bins=1000, log=True)\n",
    "plt.xlabel('Number of tokens')\n",
    "plt.ylabel('Log frequency')\n",
    "plt.show()"
   ]
  },
  {
   "cell_type": "markdown",
   "metadata": {},
   "source": [
    "### Vocabulary Analysis"
   ]
  },
  {
   "cell_type": "code",
   "execution_count": 25,
   "metadata": {},
   "outputs": [
    {
     "name": "stderr",
     "output_type": "stream",
     "text": [
      "100%|██████████| 6091/6091 [00:00<00:00, 9452.84it/s]\n"
     ]
    },
    {
     "data": {
      "image/png": "[encoded data removed]",
      "text/plain": [
       "<Figure size 640x480 with 1 Axes>"
      ]
     },
     "metadata": {},
     "output_type": "display_data"
    }
   ],
   "source": [
    "from collections import defaultdict\n",
    "\n",
    "vocab = defaultdict(lambda: 0)\n",
    "# after 0 sentences, vocab size is at 0.\n",
    "vocab_sizes = [0]\n",
    "\n",
    "# Plot the vocabulary against the number of sentences.\n",
    "for i in tqdm(range(len(dataset)), leave=True, position=0):\n",
    "  entry = dataset[i]\n",
    "  tokens = entry['quote'].split()\n",
    "  for token in tokens:\n",
    "    vocab[token] += 1\n",
    "  vocab_sizes.append(len(vocab))\n",
    "\n",
    "plt.figure()\n",
    "plt.plot(vocab_sizes)\n",
    "plt.xlabel('index')\n",
    "plt.ylabel('vocab size')\n",
    "plt.show()"
   ]
  },
  {
   "cell_type": "markdown",
   "metadata": {},
   "source": [
    "* How big is the vocabulary size?\n",
    "* How big is the vocabulary for words appearing more than once?\n",
    "* How big is the vocabulary for words appearing more than three times?"
   ]
  },
  {
   "cell_type": "code",
   "execution_count": 26,
   "metadata": {},
   "outputs": [
    {
     "name": "stdout",
     "output_type": "stream",
     "text": [
      "30807 words in vocab.\n",
      "14009 words appearing > 1 times.\n",
      "7035 words appearing > 3 times.\n"
     ]
    }
   ],
   "source": [
    "print(f'{len(vocab)} words in vocab.')\n",
    "print(f'{len([k for k in vocab if vocab[k] > 1])} words appearing > 1 times.')\n",
    "print(f'{len([k for k in vocab if vocab[k] > 3])} words appearing > 3 times.')"
   ]
  },
  {
   "cell_type": "markdown",
   "metadata": {},
   "source": [
    "Looks like vocabulary continues to grow as a function of the dataset size. There are more than 30k unique words in the vocabulary!"
   ]
  },
  {
   "cell_type": "code",
   "execution_count": 27,
   "metadata": {},
   "outputs": [
    {
     "name": "stdout",
     "output_type": "stream",
     "text": [
      "Most frequent:\n",
      "['the' 'of' 'to' 'and' 'is' 'a' 'that' 'in' 'climate' 'for' 'are' 'on'\n",
      " 'not' 'have' 'it' 'be' 'The' 'I' 'as' 'we' 'by' 'has' 'with' 'global'\n",
      " 'will' 'this' 'from' 'warming' 'change' 'or' 'about' 'you' 'more' 'they'\n",
      " 'our' 'an' 'at' 'been' 'no' 'than' 'all' 'was' 'would' 'carbon' 'but'\n",
      " 'energy' 'there' 'their' 'do' 'CO2' 'can' 'what' 'We' 'which' 'people'\n",
      " 'It' 'who' 'if' 'so' 'think' 'one' 'And' 'should' 'years' 'other'\n",
      " 'dioxide' 'because' 'temperature' 'its' 'any' 'over' 'these' 'only'\n",
      " 'even' 'out' 'science' 'it’s' 'going' 'emissions' 'Climate' 'like' '–'\n",
      " 'much' 'just' 'In' 'very' 'This' 'when' 'gas' 'most' 'some' 'natural'\n",
      " 'don’t' 'But' 'were' '[…]' 'he' 'scientific' 'human' 'many' 'how' 'also'\n",
      " 'greenhouse' 'up' 'make' 'If' 'There' 'need' 'being' 'those'\n",
      " 'environmental']\n",
      "\n",
      "Least frequent:\n",
      "['gas]' '[greenhouse' 'Simberg' 'molested' 'inevitability' 'Madhav'\n",
      " 'topic,”' 'AGU' 'Francisco,' 'defences.' 'two-hundred' 'quo' 'amnesia.'\n",
      " 'assistance' 'Flom,' 'Meagher' 'cleaner-burning' 'cancels' 'uses,'\n",
      " 'factual)' 'execute' 'stakeholders.' 'Teneo' 'inextricably' 'that;'\n",
      " 'one-degree' '1°F' 'owns.' '“asset”' 'Cohen,' 'Bonner' 'story’s' 'image;'\n",
      " 'reshape' 'purposes:' 'CFC’s' 'undergone' 'agents]' 'pollution-producing'\n",
      " 'well-reasoned' 'Atlantic’s' 'violent.' 'callous' 'Pray' 'post,'\n",
      " 'heat-of-the-moment' 'decontextualized,' 'impulsive,' 'leftism,'\n",
      " '‘renewables’' 'tax-eating' 'journals;' 'constantly-changing' 'die.)'\n",
      " '(Even' 'Payouts' 'excise' 'hefty' 'finance:' 'Conference,' 'testify'\n",
      " 'Kensington,' 'Hi.' 'bastards.' 'Khandekar' 'hosts' 'regret).'\n",
      " 'services’.' 'polluters,' 'recap:' 're-concentrating' 'institutionalize'\n",
      " 'repealing,' 'did,”' 'sand,' 'Residents' 'valid,' 'recused,' 'two-year'\n",
      " 'Westlands' 'repealed' 'disbelief' 'substantiated…' 'GISS,' 'illegals'\n",
      " 'amnesty' 'Core,' 'overly-pessimistic' 'eg' 'overstating' 'recused.'\n",
      " 'remedial' 'Order' 'die:' 'YOURSELF.' 'Benson' 'bashful.' 'foxhole.'\n",
      " 'shellshocked' 'anybody.']\n"
     ]
    }
   ],
   "source": [
    "most_frequent = []\n",
    "least_frequent = []\n",
    "\n",
    "# Print the most frequent 100 words, and the least frequent 100 words.\n",
    "words = np.array(list(vocab.keys()))\n",
    "counts = np.array([vocab[w] for w in words])\n",
    "words_ordered = words[np.argsort(counts)[::-1]]\n",
    "most_frequent = words_ordered[:111]\n",
    "least_frequent = words_ordered[-100:]\n",
    "\n",
    "print('Most frequent:')\n",
    "print(most_frequent)\n",
    "print()\n",
    "print('Least frequent:')\n",
    "print(least_frequent)"
   ]
  },
  {
   "cell_type": "markdown",
   "metadata": {},
   "source": [
    "### Data Balancing"
   ]
  },
  {
   "cell_type": "code",
   "execution_count": 28,
   "metadata": {},
   "outputs": [
    {
     "name": "stdout",
     "output_type": "stream",
     "text": [
      "Counter({'0_not_relevant': 1618,\n",
      "         '5_science_unreliable': 801,\n",
      "         '6_proponents_biased': 782,\n",
      "         '4_solutions_harmful_unnecessary': 774,\n",
      "         '1_not_happening': 741,\n",
      "         '2_not_human': 702,\n",
      "         '3_not_bad': 386,\n",
      "         '7_fossil_fuels_needed': 287})\n"
     ]
    }
   ],
   "source": [
    "from collections import Counter\n",
    "\n",
    "labels = [entry['label'] for entry in dataset]\n",
    "labels = Counter(labels)\n",
    "pprint(labels)"
   ]
  },
  {
   "cell_type": "code",
   "execution_count": 29,
   "metadata": {},
   "outputs": [
    {
     "data": {
      "image/png": "[encoded data removed]",
      "text/plain": [
       "<Figure size 800x600 with 1 Axes>"
      ]
     },
     "metadata": {},
     "output_type": "display_data"
    }
   ],
   "source": [
    "plt.figure(figsize=(8, 6))\n",
    "plt.bar(\n",
    "    [0, 1, 2, 3, 4, 5],\n",
    "    [labels[0.0], labels[1.0], labels[2.0], labels[3.0], labels[4.0], labels[5.0]])\n",
    "plt.show()"
   ]
  },
  {
   "cell_type": "code",
   "execution_count": null,
   "metadata": {},
   "outputs": [],
   "source": []
  }
 ],
 "metadata": {
  "kernelspec": {
   "display_name": "frugal-ai",
   "language": "python",
   "name": "python3"
  },
  "language_info": {
   "codemirror_mode": {
    "name": "ipython",
    "version": 3
   },
   "file_extension": ".py",
   "mimetype": "text/x-python",
   "name": "python",
   "nbconvert_exporter": "python",
   "pygments_lexer": "ipython3",
   "version": "3.12.1"
  }
 },
 "nbformat": 4,
 "nbformat_minor": 2
}
