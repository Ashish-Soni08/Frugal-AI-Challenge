{
 "cells": [
  {
   "cell_type": "markdown",
   "metadata": {},
   "source": [
    "# Detecting Climate Disinformation based on text from news articles : Explore the Data "
   ]
  },
  {
   "cell_type": "markdown",
   "metadata": {},
   "source": [
    "## Import Python Packages"
   ]
  },
  {
   "cell_type": "code",
   "execution_count": 1,
   "metadata": {},
   "outputs": [
    {
     "name": "stderr",
     "output_type": "stream",
     "text": [
      "[codecarbon WARNING @ 20:09:17] Multiple instances of codecarbon are allowed to run at the same time.\n",
      "[codecarbon INFO @ 20:09:17] [setup] RAM Tracking...\n",
      "[codecarbon INFO @ 20:09:17] [setup] CPU Tracking...\n",
      "[codecarbon WARNING @ 20:09:17] No CPU tracking mode found. Falling back on CPU constant mode. \n",
      " Linux OS detected: Please ensure RAPL files exist at \\sys\\class\\powercap\\intel-rapl to measure CPU\n",
      "\n",
      "[codecarbon WARNING @ 20:09:18] We saw that you have a Intel(R) Xeon(R) Platinum 8370C CPU @ 2.80GHz but we don't know it. Please contact us.\n",
      "[codecarbon INFO @ 20:09:18] CPU Model on constant consumption mode: Intel(R) Xeon(R) Platinum 8370C CPU @ 2.80GHz\n",
      "[codecarbon INFO @ 20:09:18] [setup] GPU Tracking...\n",
      "[codecarbon INFO @ 20:09:18] No GPU found.\n",
      "[codecarbon INFO @ 20:09:18] >>> Tracker's metadata:\n",
      "[codecarbon INFO @ 20:09:18]   Platform system: Linux-6.5.0-1025-azure-x86_64-with-glibc2.31\n",
      "[codecarbon INFO @ 20:09:18]   Python version: 3.12.1\n",
      "[codecarbon INFO @ 20:09:18]   CodeCarbon version: 2.8.2\n",
      "[codecarbon INFO @ 20:09:18]   Available RAM : 7.743 GB\n",
      "[codecarbon INFO @ 20:09:18]   CPU count: 2\n",
      "[codecarbon INFO @ 20:09:18]   CPU model: Intel(R) Xeon(R) Platinum 8370C CPU @ 2.80GHz\n",
      "[codecarbon INFO @ 20:09:18]   GPU count: None\n",
      "[codecarbon INFO @ 20:09:18]   GPU model: None\n",
      "[codecarbon WARNING @ 20:09:18] Cloud provider 'azure' do not publish electricity carbon intensity. Using country value instead.\n",
      "[codecarbon INFO @ 20:09:18] Saving emissions data to file /workspaces/Frugal-AI-Challenge/emissions.csv\n"
     ]
    },
    {
     "name": "stdout",
     "output_type": "stream",
     "text": [
      "All packages imported successfully!\n"
     ]
    }
   ],
   "source": [
    "from datetime import datetime\n",
    "from pprint import pprint\n",
    "\n",
    "from datasets import (load_dataset_builder,\n",
    "                      load_dataset,\n",
    "                      get_dataset_split_names)\n",
    "\n",
    "\n",
    "import evaluate\n",
    "\n",
    "from fastapi import APIRouter\n",
    "\n",
    "import matplotlib.pyplot as plt\n",
    "plt.style.use('ggplot')\n",
    "\n",
    "import numpy as np\n",
    "\n",
    "\n",
    "import pandas as pd\n",
    "\n",
    "from tqdm import tqdm\n",
    "\n",
    "from utils.evaluation import TextEvaluationRequest\n",
    "from utils.emissions import tracker, clean_emissions_data, get_space_info\n",
    "\n",
    "print('All packages imported successfully!')"
   ]
  },
  {
   "cell_type": "markdown",
   "metadata": {},
   "source": [
    "## Explore the Dataset"
   ]
  },
  {
   "cell_type": "code",
   "execution_count": 41,
   "metadata": {},
   "outputs": [
    {
     "ename": "ValueError",
     "evalue": "BuilderConfig ParquetConfig(name='default', version=0.0.0, data_dir=None, data_files={'train': ['data/train-*'], 'test': ['data/test-*']}, description=None, batch_size=None, columns=None, features=None, filters=None) doesn't have a 'split' key.",
     "output_type": "error",
     "traceback": [
      "\u001b[0;31m---------------------------------------------------------------------------\u001b[0m",
      "\u001b[0;31mValueError\u001b[0m                                Traceback (most recent call last)",
      "Cell \u001b[0;32mIn[41], line 1\u001b[0m\n\u001b[0;32m----> 1\u001b[0m ds_builder \u001b[38;5;241m=\u001b[39m \u001b[43mload_dataset_builder\u001b[49m\u001b[43m(\u001b[49m\u001b[38;5;124;43m\"\u001b[39;49m\u001b[38;5;124;43mQuotaClimat/frugalaichallenge-text-train\u001b[39;49m\u001b[38;5;124;43m\"\u001b[39;49m\u001b[43m,\u001b[49m\u001b[43m \u001b[49m\u001b[43msplit\u001b[49m\u001b[38;5;241;43m=\u001b[39;49m\u001b[43m[\u001b[49m\u001b[38;5;124;43m\"\u001b[39;49m\u001b[38;5;124;43mtrain\u001b[39;49m\u001b[38;5;124;43m\"\u001b[39;49m\u001b[43m]\u001b[49m\u001b[43m)\u001b[49m\n",
      "File \u001b[0;32m/workspaces/Frugal-AI-Challenge/frugal-ai/lib/python3.12/site-packages/datasets/load.py:1886\u001b[0m, in \u001b[0;36mload_dataset_builder\u001b[0;34m(path, name, data_dir, data_files, cache_dir, features, download_config, download_mode, revision, token, storage_options, trust_remote_code, _require_default_config_name, **config_kwargs)\u001b[0m\n\u001b[1;32m   1884\u001b[0m builder_cls \u001b[38;5;241m=\u001b[39m get_dataset_builder_class(dataset_module, dataset_name\u001b[38;5;241m=\u001b[39mdataset_name)\n\u001b[1;32m   1885\u001b[0m \u001b[38;5;66;03m# Instantiate the dataset builder\u001b[39;00m\n\u001b[0;32m-> 1886\u001b[0m builder_instance: DatasetBuilder \u001b[38;5;241m=\u001b[39m \u001b[43mbuilder_cls\u001b[49m\u001b[43m(\u001b[49m\n\u001b[1;32m   1887\u001b[0m \u001b[43m    \u001b[49m\u001b[43mcache_dir\u001b[49m\u001b[38;5;241;43m=\u001b[39;49m\u001b[43mcache_dir\u001b[49m\u001b[43m,\u001b[49m\n\u001b[1;32m   1888\u001b[0m \u001b[43m    \u001b[49m\u001b[43mdataset_name\u001b[49m\u001b[38;5;241;43m=\u001b[39;49m\u001b[43mdataset_name\u001b[49m\u001b[43m,\u001b[49m\n\u001b[1;32m   1889\u001b[0m \u001b[43m    \u001b[49m\u001b[43mconfig_name\u001b[49m\u001b[38;5;241;43m=\u001b[39;49m\u001b[43mconfig_name\u001b[49m\u001b[43m,\u001b[49m\n\u001b[1;32m   1890\u001b[0m \u001b[43m    \u001b[49m\u001b[43mdata_dir\u001b[49m\u001b[38;5;241;43m=\u001b[39;49m\u001b[43mdata_dir\u001b[49m\u001b[43m,\u001b[49m\n\u001b[1;32m   1891\u001b[0m \u001b[43m    \u001b[49m\u001b[43mdata_files\u001b[49m\u001b[38;5;241;43m=\u001b[39;49m\u001b[43mdata_files\u001b[49m\u001b[43m,\u001b[49m\n\u001b[1;32m   1892\u001b[0m \u001b[43m    \u001b[49m\u001b[38;5;28;43mhash\u001b[39;49m\u001b[38;5;241;43m=\u001b[39;49m\u001b[43mdataset_module\u001b[49m\u001b[38;5;241;43m.\u001b[39;49m\u001b[43mhash\u001b[49m\u001b[43m,\u001b[49m\n\u001b[1;32m   1893\u001b[0m \u001b[43m    \u001b[49m\u001b[43minfo\u001b[49m\u001b[38;5;241;43m=\u001b[39;49m\u001b[43minfo\u001b[49m\u001b[43m,\u001b[49m\n\u001b[1;32m   1894\u001b[0m \u001b[43m    \u001b[49m\u001b[43mfeatures\u001b[49m\u001b[38;5;241;43m=\u001b[39;49m\u001b[43mfeatures\u001b[49m\u001b[43m,\u001b[49m\n\u001b[1;32m   1895\u001b[0m \u001b[43m    \u001b[49m\u001b[43mtoken\u001b[49m\u001b[38;5;241;43m=\u001b[39;49m\u001b[43mtoken\u001b[49m\u001b[43m,\u001b[49m\n\u001b[1;32m   1896\u001b[0m \u001b[43m    \u001b[49m\u001b[43mstorage_options\u001b[49m\u001b[38;5;241;43m=\u001b[39;49m\u001b[43mstorage_options\u001b[49m\u001b[43m,\u001b[49m\n\u001b[1;32m   1897\u001b[0m \u001b[43m    \u001b[49m\u001b[38;5;241;43m*\u001b[39;49m\u001b[38;5;241;43m*\u001b[39;49m\u001b[43mbuilder_kwargs\u001b[49m\u001b[43m,\u001b[49m\n\u001b[1;32m   1898\u001b[0m \u001b[43m    \u001b[49m\u001b[38;5;241;43m*\u001b[39;49m\u001b[38;5;241;43m*\u001b[39;49m\u001b[43mconfig_kwargs\u001b[49m\u001b[43m,\u001b[49m\n\u001b[1;32m   1899\u001b[0m \u001b[43m\u001b[49m\u001b[43m)\u001b[49m\n\u001b[1;32m   1900\u001b[0m builder_instance\u001b[38;5;241m.\u001b[39m_use_legacy_cache_dir_if_possible(dataset_module)\n\u001b[1;32m   1902\u001b[0m \u001b[38;5;28;01mreturn\u001b[39;00m builder_instance\n",
      "File \u001b[0;32m/workspaces/Frugal-AI-Challenge/frugal-ai/lib/python3.12/site-packages/datasets/builder.py:342\u001b[0m, in \u001b[0;36mDatasetBuilder.__init__\u001b[0;34m(self, cache_dir, dataset_name, config_name, hash, base_path, info, features, token, repo_id, data_files, data_dir, storage_options, writer_batch_size, **config_kwargs)\u001b[0m\n\u001b[1;32m    340\u001b[0m     config_kwargs[\u001b[38;5;124m\"\u001b[39m\u001b[38;5;124mdata_dir\u001b[39m\u001b[38;5;124m\"\u001b[39m] \u001b[38;5;241m=\u001b[39m data_dir\n\u001b[1;32m    341\u001b[0m \u001b[38;5;28mself\u001b[39m\u001b[38;5;241m.\u001b[39mconfig_kwargs \u001b[38;5;241m=\u001b[39m config_kwargs\n\u001b[0;32m--> 342\u001b[0m \u001b[38;5;28mself\u001b[39m\u001b[38;5;241m.\u001b[39mconfig, \u001b[38;5;28mself\u001b[39m\u001b[38;5;241m.\u001b[39mconfig_id \u001b[38;5;241m=\u001b[39m \u001b[38;5;28;43mself\u001b[39;49m\u001b[38;5;241;43m.\u001b[39;49m\u001b[43m_create_builder_config\u001b[49m\u001b[43m(\u001b[49m\n\u001b[1;32m    343\u001b[0m \u001b[43m    \u001b[49m\u001b[43mconfig_name\u001b[49m\u001b[38;5;241;43m=\u001b[39;49m\u001b[43mconfig_name\u001b[49m\u001b[43m,\u001b[49m\n\u001b[1;32m    344\u001b[0m \u001b[43m    \u001b[49m\u001b[43mcustom_features\u001b[49m\u001b[38;5;241;43m=\u001b[39;49m\u001b[43mfeatures\u001b[49m\u001b[43m,\u001b[49m\n\u001b[1;32m    345\u001b[0m \u001b[43m    \u001b[49m\u001b[38;5;241;43m*\u001b[39;49m\u001b[38;5;241;43m*\u001b[39;49m\u001b[43mconfig_kwargs\u001b[49m\u001b[43m,\u001b[49m\n\u001b[1;32m    346\u001b[0m \u001b[43m\u001b[49m\u001b[43m)\u001b[49m\n\u001b[1;32m    348\u001b[0m \u001b[38;5;66;03m# prepare info: DatasetInfo are a standardized dataclass across all datasets\u001b[39;00m\n\u001b[1;32m    349\u001b[0m \u001b[38;5;66;03m# Prefill datasetinfo\u001b[39;00m\n\u001b[1;32m    350\u001b[0m \u001b[38;5;28;01mif\u001b[39;00m info \u001b[38;5;129;01mis\u001b[39;00m \u001b[38;5;28;01mNone\u001b[39;00m:\n\u001b[1;32m    351\u001b[0m     \u001b[38;5;66;03m# TODO FOR PACKAGED MODULES IT IMPORTS DATA FROM src/packaged_modules which doesn't make sense\u001b[39;00m\n",
      "File \u001b[0;32m/workspaces/Frugal-AI-Challenge/frugal-ai/lib/python3.12/site-packages/datasets/builder.py:590\u001b[0m, in \u001b[0;36mDatasetBuilder._create_builder_config\u001b[0;34m(self, config_name, custom_features, **config_kwargs)\u001b[0m\n\u001b[1;32m    588\u001b[0m         \u001b[38;5;28;01mif\u001b[39;00m value \u001b[38;5;129;01mis\u001b[39;00m \u001b[38;5;129;01mnot\u001b[39;00m \u001b[38;5;28;01mNone\u001b[39;00m:\n\u001b[1;32m    589\u001b[0m             \u001b[38;5;28;01mif\u001b[39;00m \u001b[38;5;129;01mnot\u001b[39;00m \u001b[38;5;28mhasattr\u001b[39m(builder_config, key):\n\u001b[0;32m--> 590\u001b[0m                 \u001b[38;5;28;01mraise\u001b[39;00m \u001b[38;5;167;01mValueError\u001b[39;00m(\u001b[38;5;124mf\u001b[39m\u001b[38;5;124m\"\u001b[39m\u001b[38;5;124mBuilderConfig \u001b[39m\u001b[38;5;132;01m{\u001b[39;00mbuilder_config\u001b[38;5;132;01m}\u001b[39;00m\u001b[38;5;124m doesn\u001b[39m\u001b[38;5;124m'\u001b[39m\u001b[38;5;124mt have a \u001b[39m\u001b[38;5;124m'\u001b[39m\u001b[38;5;132;01m{\u001b[39;00mkey\u001b[38;5;132;01m}\u001b[39;00m\u001b[38;5;124m'\u001b[39m\u001b[38;5;124m key.\u001b[39m\u001b[38;5;124m\"\u001b[39m)\n\u001b[1;32m    591\u001b[0m             \u001b[38;5;28msetattr\u001b[39m(builder_config, key, value)\n\u001b[1;32m    593\u001b[0m \u001b[38;5;28;01mif\u001b[39;00m \u001b[38;5;129;01mnot\u001b[39;00m builder_config\u001b[38;5;241m.\u001b[39mname:\n",
      "\u001b[0;31mValueError\u001b[0m: BuilderConfig ParquetConfig(name='default', version=0.0.0, data_dir=None, data_files={'train': ['data/train-*'], 'test': ['data/test-*']}, description=None, batch_size=None, columns=None, features=None, filters=None) doesn't have a 'split' key."
     ]
    }
   ],
   "source": [
    "ds_builder = load_dataset_builder(\"QuotaClimat/frugalaichallenge-text-train\", split=[\"train\"])"
   ]
  },
  {
   "cell_type": "code",
   "execution_count": 3,
   "metadata": {},
   "outputs": [
    {
     "data": {
      "text/plain": [
       "['train', 'test']"
      ]
     },
     "execution_count": 3,
     "metadata": {},
     "output_type": "execute_result"
    }
   ],
   "source": [
    "# Inspect the number of splits available for the dataset\n",
    "\n",
    "get_dataset_split_names(\"QuotaClimat/frugalaichallenge-text-train\")"
   ]
  },
  {
   "cell_type": "code",
   "execution_count": 4,
   "metadata": {},
   "outputs": [
    {
     "data": {
      "text/plain": [
       "{'quote': Value(dtype='string', id=None),\n",
       " 'label': Value(dtype='string', id=None),\n",
       " 'source': Value(dtype='string', id=None),\n",
       " 'url': Value(dtype='string', id=None),\n",
       " 'language': Value(dtype='string', id=None),\n",
       " 'subsource': Value(dtype='string', id=None),\n",
       " 'id': Value(dtype='null', id=None),\n",
       " '__index_level_0__': Value(dtype='int64', id=None)}"
      ]
     },
     "execution_count": 4,
     "metadata": {},
     "output_type": "execute_result"
    }
   ],
   "source": [
    "# Inspect dataset features\n",
    "\n",
    "ds_builder.info.features"
   ]
  },
  {
   "cell_type": "code",
   "execution_count": 36,
   "metadata": {},
   "outputs": [],
   "source": [
    "# Download the dataset \n",
    "\n",
    "dataset = load_dataset(\"QuotaClimat/frugalaichallenge-text-train\")"
   ]
  },
  {
   "cell_type": "code",
   "execution_count": 37,
   "metadata": {},
   "outputs": [
    {
     "name": "stdout",
     "output_type": "stream",
     "text": [
      "ROWS: {'train': 4872, 'test': 1219}\n",
      "COLUMNS: {'train': 8, 'test': 8}\n"
     ]
    }
   ],
   "source": [
    "print(f\"ROWS: {dataset.num_rows}\")\n",
    "print(f\"COLUMNS: {dataset.num_columns}\")"
   ]
  },
  {
   "cell_type": "code",
   "execution_count": 38,
   "metadata": {},
   "outputs": [
    {
     "name": "stdout",
     "output_type": "stream",
     "text": [
      "COLUMN NAMES: {'train': ['quote', 'label', 'source', 'url', 'language', 'subsource', 'id', '__index_level_0__'], 'test': ['quote', 'label', 'source', 'url', 'language', 'subsource', 'id', '__index_level_0__']}\n"
     ]
    }
   ],
   "source": [
    "print(f\"COLUMN NAMES: {dataset.column_names}\")"
   ]
  },
  {
   "cell_type": "code",
   "execution_count": 39,
   "metadata": {},
   "outputs": [
    {
     "ename": "KeyError",
     "evalue": "\"Invalid key: 0. Please first select a split. For example: `my_dataset_dictionary['train'][0]`. Available splits: ['test', 'train']\"",
     "output_type": "error",
     "traceback": [
      "\u001b[0;31m---------------------------------------------------------------------------\u001b[0m",
      "\u001b[0;31mKeyError\u001b[0m                                  Traceback (most recent call last)",
      "Cell \u001b[0;32mIn[39], line 2\u001b[0m\n\u001b[1;32m      1\u001b[0m \u001b[38;5;66;03m# EXAMPLE ROW\u001b[39;00m\n\u001b[0;32m----> 2\u001b[0m pprint(\u001b[43mdataset\u001b[49m\u001b[43m[\u001b[49m\u001b[38;5;241;43m0\u001b[39;49m\u001b[43m]\u001b[49m)\n",
      "File \u001b[0;32m/workspaces/Frugal-AI-Challenge/frugal-ai/lib/python3.12/site-packages/datasets/dataset_dict.py:78\u001b[0m, in \u001b[0;36mDatasetDict.__getitem__\u001b[0;34m(self, k)\u001b[0m\n\u001b[1;32m     74\u001b[0m available_suggested_splits \u001b[38;5;241m=\u001b[39m [\n\u001b[1;32m     75\u001b[0m     split \u001b[38;5;28;01mfor\u001b[39;00m split \u001b[38;5;129;01min\u001b[39;00m (Split\u001b[38;5;241m.\u001b[39mTRAIN, Split\u001b[38;5;241m.\u001b[39mTEST, Split\u001b[38;5;241m.\u001b[39mVALIDATION) \u001b[38;5;28;01mif\u001b[39;00m split \u001b[38;5;129;01min\u001b[39;00m \u001b[38;5;28mself\u001b[39m\n\u001b[1;32m     76\u001b[0m ]\n\u001b[1;32m     77\u001b[0m suggested_split \u001b[38;5;241m=\u001b[39m available_suggested_splits[\u001b[38;5;241m0\u001b[39m] \u001b[38;5;28;01mif\u001b[39;00m available_suggested_splits \u001b[38;5;28;01melse\u001b[39;00m \u001b[38;5;28mlist\u001b[39m(\u001b[38;5;28mself\u001b[39m)[\u001b[38;5;241m0\u001b[39m]\n\u001b[0;32m---> 78\u001b[0m \u001b[38;5;28;01mraise\u001b[39;00m \u001b[38;5;167;01mKeyError\u001b[39;00m(\n\u001b[1;32m     79\u001b[0m     \u001b[38;5;124mf\u001b[39m\u001b[38;5;124m\"\u001b[39m\u001b[38;5;124mInvalid key: \u001b[39m\u001b[38;5;132;01m{\u001b[39;00mk\u001b[38;5;132;01m}\u001b[39;00m\u001b[38;5;124m. Please first select a split. For example: \u001b[39m\u001b[38;5;124m\"\u001b[39m\n\u001b[1;32m     80\u001b[0m     \u001b[38;5;124mf\u001b[39m\u001b[38;5;124m\"\u001b[39m\u001b[38;5;124m`my_dataset_dictionary[\u001b[39m\u001b[38;5;124m'\u001b[39m\u001b[38;5;132;01m{\u001b[39;00msuggested_split\u001b[38;5;132;01m}\u001b[39;00m\u001b[38;5;124m'\u001b[39m\u001b[38;5;124m][\u001b[39m\u001b[38;5;132;01m{\u001b[39;00mk\u001b[38;5;132;01m}\u001b[39;00m\u001b[38;5;124m]`. \u001b[39m\u001b[38;5;124m\"\u001b[39m\n\u001b[1;32m     81\u001b[0m     \u001b[38;5;124mf\u001b[39m\u001b[38;5;124m\"\u001b[39m\u001b[38;5;124mAvailable splits: \u001b[39m\u001b[38;5;132;01m{\u001b[39;00m\u001b[38;5;28msorted\u001b[39m(\u001b[38;5;28mself\u001b[39m)\u001b[38;5;132;01m}\u001b[39;00m\u001b[38;5;124m\"\u001b[39m\n\u001b[1;32m     82\u001b[0m )\n",
      "\u001b[0;31mKeyError\u001b[0m: \"Invalid key: 0. Please first select a split. For example: `my_dataset_dictionary['train'][0]`. Available splits: ['test', 'train']\""
     ]
    }
   ],
   "source": [
    "# EXAMPLE ROW\n",
    "pprint(dataset[0])"
   ]
  },
  {
   "cell_type": "code",
   "execution_count": 9,
   "metadata": {},
   "outputs": [
    {
     "data": {
      "text/plain": [
       "['en']"
      ]
     },
     "execution_count": 9,
     "metadata": {},
     "output_type": "execute_result"
    }
   ],
   "source": [
    "# Get unique values from the 'language' column\n",
    "dataset.unique('language')"
   ]
  },
  {
   "cell_type": "code",
   "execution_count": 10,
   "metadata": {},
   "outputs": [
    {
     "data": {
      "text/plain": [
       "745"
      ]
     },
     "execution_count": 10,
     "metadata": {},
     "output_type": "execute_result"
    }
   ],
   "source": [
    "# Get the count of unique URLs\n",
    "len(dataset.unique('url'))"
   ]
  },
  {
   "cell_type": "code",
   "execution_count": 11,
   "metadata": {},
   "outputs": [
    {
     "data": {
      "text/plain": [
       "['FLICC', 'Desmog']"
      ]
     },
     "execution_count": 11,
     "metadata": {},
     "output_type": "execute_result"
    }
   ],
   "source": [
    "# Get unique values from the 'source' column\n",
    "dataset.unique('source')"
   ]
  },
  {
   "cell_type": "code",
   "execution_count": 12,
   "metadata": {},
   "outputs": [
    {
     "data": {
      "text/plain": [
       "['CARDS',\n",
       " 'hamburg_test3',\n",
       " None,\n",
       " 'jindev',\n",
       " 'jintrain',\n",
       " 'hamburg_test2',\n",
       " 'Alhindi_train',\n",
       " 'hamburg_test1',\n",
       " 'jintest',\n",
       " 'Alhindi_test',\n",
       " 'Alhindi_dev']"
      ]
     },
     "execution_count": 12,
     "metadata": {},
     "output_type": "execute_result"
    }
   ],
   "source": [
    "# Get unique values from the 'subsource' column\n",
    "dataset.unique('subsource')"
   ]
  },
  {
   "cell_type": "code",
   "execution_count": 13,
   "metadata": {},
   "outputs": [
    {
     "data": {
      "text/plain": [
       "4872"
      ]
     },
     "execution_count": 13,
     "metadata": {},
     "output_type": "execute_result"
    }
   ],
   "source": [
    "# Get the count of unique quotes\n",
    "len(dataset.unique('quote'))"
   ]
  },
  {
   "cell_type": "code",
   "execution_count": 14,
   "metadata": {},
   "outputs": [
    {
     "data": {
      "text/plain": [
       "['0_not_relevant',\n",
       " '6_proponents_biased',\n",
       " '3_not_bad',\n",
       " '2_not_human',\n",
       " '1_not_happening',\n",
       " '4_solutions_harmful_unnecessary',\n",
       " '5_science_unreliable',\n",
       " '7_fossil_fuels_needed']"
      ]
     },
     "execution_count": 14,
     "metadata": {},
     "output_type": "execute_result"
    }
   ],
   "source": [
    "# Get unique values from the 'label' column\n",
    "dataset.unique('label')"
   ]
  },
  {
   "cell_type": "code",
   "execution_count": 15,
   "metadata": {},
   "outputs": [
    {
     "data": {
      "text/plain": [
       "[None]"
      ]
     },
     "execution_count": 15,
     "metadata": {},
     "output_type": "execute_result"
    }
   ],
   "source": [
    "# Get unique values from the 'id' column\n",
    "dataset.unique('id')"
   ]
  },
  {
   "cell_type": "code",
   "execution_count": 16,
   "metadata": {},
   "outputs": [
    {
     "data": {
      "text/plain": [
       "4872"
      ]
     },
     "execution_count": 16,
     "metadata": {},
     "output_type": "execute_result"
    }
   ],
   "source": [
    "# Get the count of unique index values.\n",
    "len(dataset.unique('__index_level_0__'))"
   ]
  },
  {
   "cell_type": "code",
   "execution_count": 17,
   "metadata": {},
   "outputs": [
    {
     "name": "stdout",
     "output_type": "stream",
     "text": [
      "0_not_relevant\n"
     ]
    }
   ],
   "source": [
    "single_l = dataset['label'][0]\n",
    "print(single_l)"
   ]
  },
  {
   "cell_type": "code",
   "execution_count": 18,
   "metadata": {},
   "outputs": [],
   "source": [
    "x, y =single_l.split('_', maxsplit=1)"
   ]
  },
  {
   "cell_type": "code",
   "execution_count": 19,
   "metadata": {},
   "outputs": [],
   "source": [
    "z = int(x)"
   ]
  },
  {
   "cell_type": "code",
   "execution_count": 20,
   "metadata": {},
   "outputs": [
    {
     "data": {
      "text/plain": [
       "'not_relevant'"
      ]
     },
     "execution_count": 20,
     "metadata": {},
     "output_type": "execute_result"
    }
   ],
   "source": [
    "y"
   ]
  },
  {
   "cell_type": "code",
   "execution_count": 21,
   "metadata": {},
   "outputs": [
    {
     "data": {
      "text/plain": [
       "(int, str)"
      ]
     },
     "execution_count": 21,
     "metadata": {},
     "output_type": "execute_result"
    }
   ],
   "source": [
    "type(z), type(y)"
   ]
  },
  {
   "cell_type": "code",
   "execution_count": 22,
   "metadata": {},
   "outputs": [],
   "source": [
    "LABEL_MAPPING = {\n",
    "    \"0_not_relevant\": 0,\n",
    "    \"1_not_happening\": 1,\n",
    "    \"2_not_human\": 2,\n",
    "    \"3_not_bad\": 3,\n",
    "    \"4_solutions_harmful_unnecessary\": 4,\n",
    "    \"5_science_unreliable\": 5,\n",
    "    \"6_proponents_biased\": 6,\n",
    "    \"7_fossil_fuels_needed\": 7\n",
    "}"
   ]
  },
  {
   "cell_type": "markdown",
   "metadata": {},
   "source": [
    "We would like to understand some properties of the data. As a start, let's analyze the lengths of different sentences in the  `quote` column. \n",
    "We will make a histogram of the number of words in each quote over the full corpus."
   ]
  },
  {
   "cell_type": "code",
   "execution_count": 23,
   "metadata": {},
   "outputs": [],
   "source": [
    "def make_histogram(dataset):\n",
    "  \n",
    "  num_tokens = []  # each sentence should add an integer to this list.\n",
    "\n",
    "  # Make a histogram of the lengths of sentences in the dataset.\n",
    "  pbar = tqdm(total=len(dataset), leave=True, position=0)\n",
    "  for entry in dataset:\n",
    "    tokens = entry['quote'].split()\n",
    "    num_tokens.append(len(tokens))\n",
    "    pbar.update()\n",
    "  pbar.close()\n",
    "\n",
    "  plt.figure()\n",
    "  plt.hist(num_tokens, bins=1000)\n",
    "  plt.xlabel('Number of tokens')\n",
    "  plt.xlim(0, 1000)\n",
    "  plt.show()\n",
    "  return num_tokens"
   ]
  },
  {
   "cell_type": "code",
   "execution_count": 24,
   "metadata": {},
   "outputs": [
    {
     "name": "stderr",
     "output_type": "stream",
     "text": [
      "100%|██████████| 4872/4872 [00:00<00:00, 14747.66it/s]\n"
     ]
    },
    {
     "data": {
      "image/png": "[encoded data removed]",
      "text/plain": [
       "<Figure size 640x480 with 1 Axes>"
      ]
     },
     "metadata": {},
     "output_type": "display_data"
    }
   ],
   "source": [
    "num_tokens = make_histogram(dataset)"
   ]
  },
  {
   "cell_type": "code",
   "execution_count": 25,
   "metadata": {},
   "outputs": [
    {
     "name": "stdout",
     "output_type": "stream",
     "text": [
      "1 quotes have 3 tokens.\n",
      "1 quotes has 789 tokens.\n"
     ]
    }
   ],
   "source": [
    "# Q: How many words is the shortest quote and how many quotes have that length?\n",
    "\n",
    "from collections import Counter\n",
    "\n",
    "token_counter = Counter(num_tokens)\n",
    "shortest = min(num_tokens)\n",
    "longest = max(num_tokens)\n",
    "\n",
    "num_shortest = token_counter[shortest]\n",
    "num_longest = token_counter[longest]\n",
    "\n",
    "print(f'{num_shortest} quotes have {shortest} tokens.')\n",
    "print(f'{num_longest} quotes has {longest} tokens.')"
   ]
  },
  {
   "cell_type": "code",
   "execution_count": 26,
   "metadata": {},
   "outputs": [
    {
     "name": "stdout",
     "output_type": "stream",
     "text": [
      "{'__index_level_0__': 277,\n",
      " 'id': None,\n",
      " 'label': '3_not_bad',\n",
      " 'language': 'en',\n",
      " 'quote': 'reefs are improving',\n",
      " 'source': 'FLICC',\n",
      " 'subsource': 'hamburg_test3',\n",
      " 'url': 'https://huggingface.co/datasets/fzanartu/FLICCdataset'}\n"
     ]
    }
   ],
   "source": [
    "# print out the shortest entry\n",
    "for entry in dataset:\n",
    "  if len(entry['quote'].split()) == shortest:\n",
    "    pprint(entry)"
   ]
  },
  {
   "cell_type": "code",
   "execution_count": 28,
   "metadata": {},
   "outputs": [],
   "source": [
    "# print out the longest entry\n",
    "\n",
    "max_tokens = 0\n",
    "longest_quote = None\n",
    "\n",
    "for entry in dataset:\n",
    "    tokens = entry['quote'].split()\n",
    "    if len(tokens) > max_tokens:\n",
    "        longest_quote = entry['quote']\n",
    "        max_tokens = len(tokens)"
   ]
  },
  {
   "cell_type": "code",
   "execution_count": 29,
   "metadata": {},
   "outputs": [
    {
     "name": "stdout",
     "output_type": "stream",
     "text": [
      "('Hubris is a Greek word that means dangerously overconfident. Based on my '\n",
      " 'research, hubris fairly describes our current response to the issue of '\n",
      " 'climate change Here’s what many people believe One: The planet is warming '\n",
      " 'catastrophically because of certain human behaviors Two: Thanks to powerful '\n",
      " 'computers we can project what the climate will be like 20, 40, or even 100 '\n",
      " 'years from now Three: That if we eliminate just one behavior, the burning of '\n",
      " 'fossil fuels, we can prevent the climate from changing for as long we like '\n",
      " 'Each of these presumptions—together, the basis of our hubris regarding the '\n",
      " 'changing climate—is either untrue or so far off the mark as to be useless '\n",
      " 'Yes, it’s true that the globe is warming, and that humans are exerting a '\n",
      " 'warming influence upon it. But beyond that, to paraphrase a line from the '\n",
      " 'classic movie The Princess Bride, ‘I do not think “The Science” says what '\n",
      " 'you think it says. For example, government reports state clearly that heat '\n",
      " 'waves in the US are now no more common than they were in 1900 Hurricane '\n",
      " 'activity is no different than it was a century ago Floods have not increased '\n",
      " 'across the globe over more than seventy years Greenland’s ice sheet isn’t '\n",
      " 'shrinking any more rapidly today than it was 80 years ago Why aren’t these '\n",
      " 'reassuring facts better known Because the public gets its climate '\n",
      " 'information almost exclusively from the media And from a media perspective, '\n",
      " 'fear sells ‘Things aren’t that bad’ doesn’t sell Very few people, and that '\n",
      " 'includes journalists who report on climate news, read the actual science. I '\n",
      " 'have. And what the data—the hard science—from the US government and UN '\n",
      " 'Climate reports say is that… ‘things aren’t that bad. Nor does the public '\n",
      " 'understand the questionable basis of all catastrophic climate change '\n",
      " 'projections: computer modeling Projecting future climate is excruciatingly '\n",
      " 'difficult. Yes, there are human influences, but the climate is complex. '\n",
      " 'Anyone who says that climate models are “just physics” either doesn’t '\n",
      " 'understand them or is being deliberately misleading. I should know: I wrote '\n",
      " 'one of the first textbooks on computer modeling While modelers base their '\n",
      " 'assumptions upon both fundamental physical laws and observations of the '\n",
      " 'climate, there is still considerable judgment involved. And since different '\n",
      " 'modelers will make different assumptions, results vary widely among '\n",
      " 'different models Let’s just take one simple, but significant assumption '\n",
      " 'modelers must make: the impact of clouds on the climate Natural fluctuations '\n",
      " 'in the height and coverage of clouds have at least as much of an impact on '\n",
      " 'the flows of sunlight and heat as do human influences. But how can we '\n",
      " 'possibly know global cloud coverage say 10, let alone 50 years from now? '\n",
      " 'Obviously, we can’t. But to create a climate model, we have to make '\n",
      " 'assumptions. That’s a pretty shaky foundation on which to transform the '\n",
      " 'world’s economy By the way, creating more accurate models isn’t getting any '\n",
      " 'easier. In fact, the more we learn about the climate system, the more we '\n",
      " 'realize how complex it is Rather than admit this complexity, the media, the '\n",
      " 'politicians, and a good portion of the climate science community attribute '\n",
      " 'every terrible storm, every flood, every major fire to ‘climate change.’ '\n",
      " 'Yes, we’ve always had these weather events in the past, the narrative goes, '\n",
      " 'but somehow ‘climate change’ is making everything ‘worse. Even if that were '\n",
      " 'true, isn’t the relevant question, how much worse? Not to mention that '\n",
      " '‘worse’ is not exactly a scientific term And how would we make it better For '\n",
      " 'the alarmists, that’s easy: we get rid of fossil fuels Not only is this '\n",
      " 'impractical—we get over 80% of the world’s energy from fossil fuels—it’s not '\n",
      " 'scientifically possible. That’s because CO2 doesn’t disappear from the '\n",
      " 'atmosphere in a few days like, say, smog. It hangs around for a really long '\n",
      " 'time About 60 percent of any CO2 that we emit today will remain in the '\n",
      " 'atmosphere 20 years from now, between 30 and 55 percent will still be there '\n",
      " 'after a century, and between 15 and 30 percent will remain after one '\n",
      " 'thousand years In other words, it takes centuries for the excess carbon '\n",
      " 'dioxide to vanish from the atmosphere. So, any partial reductions in CO2 '\n",
      " 'emissions would only slow the increase in human influences—not prevent it, '\n",
      " 'let alone reverse it CO2 is not a knob that we can just turn down to fix '\n",
      " 'everything. We don’t have that ability. To think that we do is… hubris '\n",
      " 'Hubris leads to bad decisions A little humility and a little knowledge would '\n",
      " 'lead to better ones I’m Steve Koonin, former Undersecretary for Science in '\n",
      " 'the Obama Administration, and author of Unsettled: What Climate Science '\n",
      " 'Tells Us, What It Doesn’t, and Why It Matters, for Prager University.')\n"
     ]
    }
   ],
   "source": [
    "pprint(longest_quote)"
   ]
  },
  {
   "cell_type": "code",
   "execution_count": 30,
   "metadata": {},
   "outputs": [
    {
     "data": {
      "image/png": "[encoded data removed]",
      "text/plain": [
       "<Figure size 640x480 with 1 Axes>"
      ]
     },
     "metadata": {},
     "output_type": "display_data"
    }
   ],
   "source": [
    "# Re-plot the histogram in log frequency space.\n",
    "plt.figure()\n",
    "plt.hist(num_tokens, bins=1000, log=True)\n",
    "plt.xlabel('Number of tokens')\n",
    "plt.ylabel('Log frequency')\n",
    "plt.show()"
   ]
  },
  {
   "cell_type": "markdown",
   "metadata": {},
   "source": [
    "### Vocabulary Analysis"
   ]
  },
  {
   "cell_type": "code",
   "execution_count": 31,
   "metadata": {},
   "outputs": [
    {
     "name": "stderr",
     "output_type": "stream",
     "text": [
      "100%|██████████| 4872/4872 [00:00<00:00, 8373.09it/s] \n"
     ]
    },
    {
     "data": {
      "image/png": "[encoded data removed]",
      "text/plain": [
       "<Figure size 640x480 with 1 Axes>"
      ]
     },
     "metadata": {},
     "output_type": "display_data"
    }
   ],
   "source": [
    "from collections import defaultdict\n",
    "\n",
    "vocab = defaultdict(lambda: 0)\n",
    "# after 0 sentences, vocab size is at 0.\n",
    "vocab_sizes = [0]\n",
    "\n",
    "# Plot the vocabulary against the number of sentences.\n",
    "for i in tqdm(range(len(dataset)), leave=True, position=0):\n",
    "  entry = dataset[i]\n",
    "  tokens = entry['quote'].split()\n",
    "  for token in tokens:\n",
    "    vocab[token] += 1\n",
    "  vocab_sizes.append(len(vocab))\n",
    "\n",
    "plt.figure()\n",
    "plt.plot(vocab_sizes)\n",
    "plt.xlabel('index')\n",
    "plt.ylabel('vocab size')\n",
    "plt.show()"
   ]
  },
  {
   "cell_type": "markdown",
   "metadata": {},
   "source": [
    "* How big is the vocabulary size?\n",
    "* How big is the vocabulary for words appearing more than once?\n",
    "* How big is the vocabulary for words appearing more than three times?"
   ]
  },
  {
   "cell_type": "code",
   "execution_count": 32,
   "metadata": {},
   "outputs": [
    {
     "name": "stdout",
     "output_type": "stream",
     "text": [
      "27278 words in vocab.\n",
      "12091 words appearing > 1 times.\n",
      "6039 words appearing > 3 times.\n"
     ]
    }
   ],
   "source": [
    "print(f'{len(vocab)} words in vocab.')\n",
    "print(f'{len([k for k in vocab if vocab[k] > 1])} words appearing > 1 times.')\n",
    "print(f'{len([k for k in vocab if vocab[k] > 3])} words appearing > 3 times.')"
   ]
  },
  {
   "cell_type": "markdown",
   "metadata": {},
   "source": [
    "Looks like vocabulary continues to grow as a function of the dataset size. There are more than 30k unique words in the vocabulary!"
   ]
  },
  {
   "cell_type": "code",
   "execution_count": 33,
   "metadata": {},
   "outputs": [
    {
     "name": "stdout",
     "output_type": "stream",
     "text": [
      "Most frequent:\n",
      "['the' 'of' 'to' 'and' 'is' 'a' 'that' 'in' 'climate' 'for' 'are' 'on'\n",
      " 'not' 'have' 'it' 'be' 'The' 'I' 'as' 'we' 'by' 'has' 'with' 'global'\n",
      " 'will' 'this' 'change' 'from' 'warming' 'about' 'or' 'you' 'more' 'they'\n",
      " 'our' 'an' 'been' 'at' 'no' 'than' 'was' 'all' 'carbon' 'but' 'would'\n",
      " 'their' 'energy' 'there' 'do' 'CO2' 'can' 'what' 'We' 'which' 'who'\n",
      " 'people' 'It' 'so' 'think' 'if' 'one' 'And' 'years' 'should' 'because'\n",
      " 'temperature' 'other' 'dioxide' 'these' 'over' 'going' 'any' 'only' 'its'\n",
      " 'it’s' 'even' 'emissions' '–' 'out' 'science' 'like' 'Climate' 'just'\n",
      " 'much' 'In' 'This' 'very' 'don’t' 'when' 'gas' 'some' 'natural' '[…]'\n",
      " 'most' 'were' 'But' 'human' 'scientific' 'also' 'how' 'up' 'he'\n",
      " 'greenhouse' 'many' 'If' 'make' 'into' 'There' 'world' 'environmental'\n",
      " 'need']\n",
      "\n",
      "Least frequent:\n",
      "['unnoticed' 'Valley,' '134' '1922.' 'INEOS’' 'contrasts' 'panel,'\n",
      " 'state-of-the-art' 'whacked' 'Rush' 'Waxman,' 'Henry' 'conceit.' 'finest'\n",
      " 'booklet,' 'emotion.' 'madness,' 'quieter' 'dot' 'millions,' 'Killing'\n",
      " 'lukewarm' 'smidgen' 'lukewarmer.' 'LOL' 'Thanks.' '81' 'Stressing'\n",
      " 'wisest' '‘eventually’' 'energy!' \"y'all\" '\"activists\"' 'ive'\n",
      " 'self-important.' 'Bears?' 'lord.' 'time)' 'superfund' 'cap.'\n",
      " '[emissions]' 'unify,' 'answered,' 'A.k.a.' 'Absolutely.' 'ten,' 'blood,'\n",
      " 'wrestle' 'steak,' 'feast' 'crickets/mealworms' 'Davos,' 'Osama' 'fat'\n",
      " 'brilliant.' 'society:' 'significant:' 'obvious,' '1600' '2021–2022,'\n",
      " 'sufficient,' '‘C02-free’' 'Noble' 'Quality' 'gunman,' 'Manson,' 'Laden,'\n",
      " 'bin' 'Register' 'Wilderness' 'Tomorrow,' 'Constructive' 'Watch,’' '‘EPA'\n",
      " 'seawalls,”' 'port' 'Examiner.' 'rulers' 'principalities,' '79.9'\n",
      " 'Baltimore' 'airport,' 'Thurgood' 'dangerously.' 'FTC’s' 'private/1st'\n",
      " 'life:' 'ppl' 'naming' 'voters,”' 'market”' '“free' 'ENGINEERING' 'GEO'\n",
      " 'fake,' 'filtering' 'signatures' 'ineligible' 'submission,' 'alleges']\n"
     ]
    }
   ],
   "source": [
    "most_frequent = []\n",
    "least_frequent = []\n",
    "\n",
    "# Print the most frequent 100 words, and the least frequent 100 words.\n",
    "words = np.array(list(vocab.keys()))\n",
    "counts = np.array([vocab[w] for w in words])\n",
    "words_ordered = words[np.argsort(counts)[::-1]]\n",
    "most_frequent = words_ordered[:111]\n",
    "least_frequent = words_ordered[-100:]\n",
    "\n",
    "print('Most frequent:')\n",
    "print(most_frequent)\n",
    "print()\n",
    "print('Least frequent:')\n",
    "print(least_frequent)"
   ]
  },
  {
   "cell_type": "markdown",
   "metadata": {},
   "source": [
    "### Data Balancing"
   ]
  },
  {
   "cell_type": "code",
   "execution_count": 34,
   "metadata": {},
   "outputs": [
    {
     "name": "stdout",
     "output_type": "stream",
     "text": [
      "Counter({'0_not_relevant': 1311,\n",
      "         '6_proponents_biased': 643,\n",
      "         '5_science_unreliable': 641,\n",
      "         '4_solutions_harmful_unnecessary': 614,\n",
      "         '1_not_happening': 587,\n",
      "         '2_not_human': 565,\n",
      "         '3_not_bad': 289,\n",
      "         '7_fossil_fuels_needed': 222})\n"
     ]
    }
   ],
   "source": [
    "from collections import Counter\n",
    "\n",
    "labels = [entry['label'] for entry in dataset]\n",
    "labels = Counter(labels)\n",
    "pprint(labels)"
   ]
  },
  {
   "cell_type": "code",
   "execution_count": 35,
   "metadata": {},
   "outputs": [
    {
     "data": {
      "image/png": "[encoded data removed]",
      "text/plain": [
       "<Figure size 1000x600 with 1 Axes>"
      ]
     },
     "metadata": {},
     "output_type": "display_data"
    }
   ],
   "source": [
    "# Sort the labels by their count\n",
    "sorted_labels = dict(sorted(labels.items(), key=lambda item: item[1]))\n",
    "\n",
    "plt.figure(figsize=(10, 6))\n",
    "plt.bar(sorted_labels.keys(), sorted_labels.values())\n",
    "plt.xlabel('Labels')\n",
    "plt.ylabel('Count')\n",
    "plt.title('Distribution of Labels')\n",
    "plt.xticks(rotation=75)\n",
    "plt.show()"
   ]
  },
  {
   "cell_type": "markdown",
   "metadata": {},
   "source": [
    "The imbalance jumps out. There is a lot of `0_not_relevant` quotes than anything else. Since there is a lot of general discussion in the media other than climate topics, it makes sense."
   ]
  },
  {
   "cell_type": "markdown",
   "metadata": {},
   "source": [
    "## MODELS"
   ]
  },
  {
   "cell_type": "code",
   "execution_count": 66,
   "metadata": {},
   "outputs": [],
   "source": [
    "MODELS = []\n",
    "\n"
   ]
  },
  {
   "cell_type": "markdown",
   "metadata": {},
   "source": [
    "## Evaluation Metrics"
   ]
  },
  {
   "cell_type": "code",
   "execution_count": 67,
   "metadata": {},
   "outputs": [],
   "source": [
    "clf_metrics = evaluate.combine([\"accuracy\", \"f1\", \"precision\", \"recall\"])"
   ]
  },
  {
   "cell_type": "code",
   "execution_count": 68,
   "metadata": {},
   "outputs": [],
   "source": [
    "accuracy = evaluate.load(\"accuracy\")"
   ]
  },
  {
   "cell_type": "code",
   "execution_count": 69,
   "metadata": {},
   "outputs": [
    {
     "name": "stdout",
     "output_type": "stream",
     "text": [
      "('\\n'\n",
      " 'Accuracy is the proportion of correct predictions among the total number of '\n",
      " 'cases processed. It can be computed with:\\n'\n",
      " 'Accuracy = (TP + TN) / (TP + TN + FP + FN)\\n'\n",
      " ' Where:\\n'\n",
      " 'TP: True positive\\n'\n",
      " 'TN: True negative\\n'\n",
      " 'FP: False positive\\n'\n",
      " 'FN: False negative\\n')\n"
     ]
    }
   ],
   "source": [
    "pprint(accuracy.description)"
   ]
  },
  {
   "cell_type": "code",
   "execution_count": 70,
   "metadata": {},
   "outputs": [
    {
     "data": {
      "text/plain": [
       "{'predictions': Value(dtype='int32', id=None),\n",
       " 'references': Value(dtype='int32', id=None)}"
      ]
     },
     "execution_count": 70,
     "metadata": {},
     "output_type": "execute_result"
    }
   ],
   "source": [
    "accuracy.features"
   ]
  },
  {
   "cell_type": "markdown",
   "metadata": {},
   "source": []
  }
 ],
 "metadata": {
  "kernelspec": {
   "display_name": "frugal-ai",
   "language": "python",
   "name": "python3"
  },
  "language_info": {
   "codemirror_mode": {
    "name": "ipython",
    "version": 3
   },
   "file_extension": ".py",
   "mimetype": "text/x-python",
   "name": "python",
   "nbconvert_exporter": "python",
   "pygments_lexer": "ipython3",
   "version": "3.12.1"
  }
 },
 "nbformat": 4,
 "nbformat_minor": 2
}
