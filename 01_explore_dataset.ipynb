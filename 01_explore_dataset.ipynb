{
 "cells": [
  {
   "cell_type": "markdown",
   "metadata": {},
   "source": [
    "# Detecting Climate Disinformation based on text from news articles : Explore the Data "
   ]
  },
  {
   "cell_type": "markdown",
   "metadata": {},
   "source": [
    "## Import Python Packages"
   ]
  },
  {
   "cell_type": "code",
   "execution_count": 2,
   "metadata": {},
   "outputs": [
    {
     "name": "stdout",
     "output_type": "stream",
     "text": [
      "All packages imported successfully!\n"
     ]
    }
   ],
   "source": [
    "from collections import Counter\n",
    "from datetime import datetime\n",
    "from pprint import pprint\n",
    "\n",
    "from datasets import (load_dataset_builder,\n",
    "                      load_dataset,\n",
    "                      get_dataset_split_names)\n",
    "\n",
    "import matplotlib.pyplot as plt\n",
    "plt.style.use('ggplot')\n",
    "\n",
    "import numpy as np\n",
    "\n",
    "import pandas as pd\n",
    "\n",
    "from tqdm import tqdm\n",
    "\n",
    "from utils.evaluation import TextEvaluationRequest\n",
    "\n",
    "\n",
    "print('All packages imported successfully!')"
   ]
  },
  {
   "cell_type": "markdown",
   "metadata": {},
   "source": [
    "## Explore the Dataset"
   ]
  },
  {
   "cell_type": "code",
   "execution_count": 3,
   "metadata": {},
   "outputs": [],
   "source": [
    "request = TextEvaluationRequest()\n",
    "\n",
    "# Load and prepare the dataset\n",
    "dataset = load_dataset(request.dataset_name, split=\"train+test\")"
   ]
  },
  {
   "cell_type": "code",
   "execution_count": 4,
   "metadata": {},
   "outputs": [
    {
     "name": "stdout",
     "output_type": "stream",
     "text": [
      "ROWS: 6091\n",
      "COLUMNS: 8\n"
     ]
    }
   ],
   "source": [
    "print(f\"ROWS: {dataset.num_rows}\")\n",
    "print(f\"COLUMNS: {dataset.num_columns}\")"
   ]
  },
  {
   "cell_type": "code",
   "execution_count": 7,
   "metadata": {},
   "outputs": [
    {
     "name": "stdout",
     "output_type": "stream",
     "text": [
      "COLUMN NAMES: ['quote', 'label', 'source', 'url', 'language', 'subsource', 'id', '__index_level_0__']\n"
     ]
    }
   ],
   "source": [
    "print(f\"COLUMN NAMES: {dataset.column_names}\")"
   ]
  },
  {
   "cell_type": "code",
   "execution_count": 8,
   "metadata": {},
   "outputs": [
    {
     "name": "stdout",
     "output_type": "stream",
     "text": [
      "{'__index_level_0__': Value(dtype='int64', id=None),\n",
      " 'id': Value(dtype='null', id=None),\n",
      " 'label': Value(dtype='string', id=None),\n",
      " 'language': Value(dtype='string', id=None),\n",
      " 'quote': Value(dtype='string', id=None),\n",
      " 'source': Value(dtype='string', id=None),\n",
      " 'subsource': Value(dtype='string', id=None),\n",
      " 'url': Value(dtype='string', id=None)}\n"
     ]
    }
   ],
   "source": [
    "pprint(dataset.info.features)\n"
   ]
  },
  {
   "cell_type": "code",
   "execution_count": 9,
   "metadata": {},
   "outputs": [
    {
     "name": "stdout",
     "output_type": "stream",
     "text": [
      "{'__index_level_0__': 1109,\n",
      " 'id': None,\n",
      " 'label': '0_not_relevant',\n",
      " 'language': 'en',\n",
      " 'quote': 'Interesting to note that Oklahoma minimum temperatures in 2011 were '\n",
      "          'in the bottom ten, including the coldest Oklahoma temperature ever '\n",
      "          'recorded, -31F on February 10, 2011.',\n",
      " 'source': 'FLICC',\n",
      " 'subsource': 'CARDS',\n",
      " 'url': 'https://huggingface.co/datasets/fzanartu/FLICCdataset'}\n"
     ]
    }
   ],
   "source": [
    "# EXAMPLE ROW\n",
    "pprint(dataset[0])"
   ]
  },
  {
   "cell_type": "code",
   "execution_count": 10,
   "metadata": {},
   "outputs": [
    {
     "data": {
      "text/plain": [
       "['en']"
      ]
     },
     "execution_count": 10,
     "metadata": {},
     "output_type": "execute_result"
    }
   ],
   "source": [
    "# Get unique values from the 'language' column\n",
    "dataset.unique('language')"
   ]
  },
  {
   "cell_type": "code",
   "execution_count": 11,
   "metadata": {},
   "outputs": [
    {
     "data": {
      "text/plain": [
       "780"
      ]
     },
     "execution_count": 11,
     "metadata": {},
     "output_type": "execute_result"
    }
   ],
   "source": [
    "# Get the count of unique URLs\n",
    "len(dataset.unique('url'))"
   ]
  },
  {
   "cell_type": "code",
   "execution_count": 12,
   "metadata": {},
   "outputs": [
    {
     "name": "stdout",
     "output_type": "stream",
     "text": [
      "['FLICC', 'Desmog']\n"
     ]
    }
   ],
   "source": [
    "# Get unique values from the 'source' column\n",
    "pprint(dataset.unique('source'))"
   ]
  },
  {
   "cell_type": "code",
   "execution_count": 45,
   "metadata": {},
   "outputs": [
    {
     "name": "stdout",
     "output_type": "stream",
     "text": [
      "Counter({'Desmog': 4295, 'FLICC': 1796})\n"
     ]
    }
   ],
   "source": [
    "source_counts = Counter(entry['source'] for entry in dataset)\n",
    "pprint(source_counts)"
   ]
  },
  {
   "cell_type": "code",
   "execution_count": 13,
   "metadata": {},
   "outputs": [
    {
     "name": "stdout",
     "output_type": "stream",
     "text": [
      "['CARDS',\n",
      " 'hamburg_test3',\n",
      " None,\n",
      " 'jindev',\n",
      " 'jintrain',\n",
      " 'hamburg_test2',\n",
      " 'Alhindi_train',\n",
      " 'hamburg_test1',\n",
      " 'jintest',\n",
      " 'Alhindi_test',\n",
      " 'Alhindi_dev']\n"
     ]
    }
   ],
   "source": [
    "# Get unique values from the 'subsource' column\n",
    "pprint(dataset.unique('subsource'))"
   ]
  },
  {
   "cell_type": "code",
   "execution_count": 47,
   "metadata": {},
   "outputs": [
    {
     "name": "stdout",
     "output_type": "stream",
     "text": [
      "Counter({None: 4295,\n",
      "         'CARDS': 689,\n",
      "         'hamburg_test3': 419,\n",
      "         'jintrain': 192,\n",
      "         'hamburg_test2': 172,\n",
      "         'hamburg_test1': 107,\n",
      "         'jindev': 78,\n",
      "         'Alhindi_train': 63,\n",
      "         'jintest': 39,\n",
      "         'Alhindi_dev': 19,\n",
      "         'Alhindi_test': 18})\n"
     ]
    }
   ],
   "source": [
    "subsource_counts = Counter(entry['subsource'] for entry in dataset)\n",
    "pprint(subsource_counts)"
   ]
  },
  {
   "cell_type": "code",
   "execution_count": 14,
   "metadata": {},
   "outputs": [
    {
     "data": {
      "text/plain": [
       "6091"
      ]
     },
     "execution_count": 14,
     "metadata": {},
     "output_type": "execute_result"
    }
   ],
   "source": [
    "# Get the count of unique quotes\n",
    "len(dataset.unique('quote'))"
   ]
  },
  {
   "cell_type": "code",
   "execution_count": 15,
   "metadata": {},
   "outputs": [
    {
     "data": {
      "text/plain": [
       "['0_not_relevant',\n",
       " '6_proponents_biased',\n",
       " '3_not_bad',\n",
       " '2_not_human',\n",
       " '1_not_happening',\n",
       " '4_solutions_harmful_unnecessary',\n",
       " '5_science_unreliable',\n",
       " '7_fossil_fuels_needed']"
      ]
     },
     "execution_count": 15,
     "metadata": {},
     "output_type": "execute_result"
    }
   ],
   "source": [
    "# Get unique values from the 'label' column\n",
    "dataset.unique('label')"
   ]
  },
  {
   "cell_type": "code",
   "execution_count": 16,
   "metadata": {},
   "outputs": [
    {
     "data": {
      "text/plain": [
       "[None]"
      ]
     },
     "execution_count": 16,
     "metadata": {},
     "output_type": "execute_result"
    }
   ],
   "source": [
    "# Get unique values from the 'id' column\n",
    "dataset.unique('id')"
   ]
  },
  {
   "cell_type": "code",
   "execution_count": 18,
   "metadata": {},
   "outputs": [
    {
     "data": {
      "text/plain": [
       "6091"
      ]
     },
     "execution_count": 18,
     "metadata": {},
     "output_type": "execute_result"
    }
   ],
   "source": [
    "# Get the count of unique index values.\n",
    "len(dataset.unique('__index_level_0__'))"
   ]
  },
  {
   "cell_type": "markdown",
   "metadata": {},
   "source": [
    "We would like to understand some properties of the data. As a start, let's analyze the lengths of different sentences in the  `quote` column. \n",
    "We will make a histogram of the number of words in each quote over the full corpus."
   ]
  },
  {
   "cell_type": "code",
   "execution_count": 5,
   "metadata": {},
   "outputs": [],
   "source": [
    "def count_tokens(entry):\n",
    "    return {\"num_tokens\": len(entry[\"quote\"].split())}\n",
    "\n",
    "dataset = dataset.map(count_tokens)"
   ]
  },
  {
   "cell_type": "code",
   "execution_count": 42,
   "metadata": {},
   "outputs": [
    {
     "data": {
      "text/plain": [
       "241"
      ]
     },
     "execution_count": 42,
     "metadata": {},
     "output_type": "execute_result"
    }
   ],
   "source": [
    "len(dataset.unique('num_tokens'))"
   ]
  },
  {
   "cell_type": "code",
   "execution_count": 61,
   "metadata": {},
   "outputs": [
    {
     "name": "stdout",
     "output_type": "stream",
     "text": [
      "{3: 1,\n",
      " 4: 4,\n",
      " 5: 11,\n",
      " 6: 14,\n",
      " 7: 23,\n",
      " 8: 29,\n",
      " 9: 30,\n",
      " 10: 37,\n",
      " 11: 100,\n",
      " 12: 75,\n",
      " 13: 92,\n",
      " 14: 106,\n",
      " 15: 98,\n",
      " 16: 95,\n",
      " 17: 96,\n",
      " 18: 100,\n",
      " 19: 110,\n",
      " 20: 142,\n",
      " 21: 107,\n",
      " 22: 112,\n",
      " 23: 113,\n",
      " 24: 121,\n",
      " 25: 134,\n",
      " 26: 100,\n",
      " 27: 106,\n",
      " 28: 113,\n",
      " 29: 116,\n",
      " 30: 101,\n",
      " 31: 123,\n",
      " 32: 103,\n",
      " 33: 86,\n",
      " 34: 106,\n",
      " 35: 91,\n",
      " 36: 84,\n",
      " 37: 115,\n",
      " 38: 98,\n",
      " 39: 83,\n",
      " 40: 93,\n",
      " 41: 83,\n",
      " 42: 86,\n",
      " 43: 76,\n",
      " 44: 78,\n",
      " 45: 74,\n",
      " 46: 90,\n",
      " 47: 70,\n",
      " 48: 74,\n",
      " 49: 66,\n",
      " 50: 84,\n",
      " 51: 52,\n",
      " 52: 56,\n",
      " 53: 50,\n",
      " 54: 66,\n",
      " 55: 49,\n",
      " 56: 45,\n",
      " 57: 54,\n",
      " 58: 57,\n",
      " 59: 44,\n",
      " 60: 45,\n",
      " 61: 52,\n",
      " 62: 34,\n",
      " 63: 38,\n",
      " 64: 49,\n",
      " 65: 38,\n",
      " 66: 32,\n",
      " 67: 51,\n",
      " 68: 34,\n",
      " 69: 59,\n",
      " 70: 35,\n",
      " 71: 35,\n",
      " 72: 43,\n",
      " 73: 38,\n",
      " 74: 34,\n",
      " 75: 26,\n",
      " 76: 23,\n",
      " 77: 24,\n",
      " 78: 20,\n",
      " 79: 23,\n",
      " 80: 29,\n",
      " 81: 12,\n",
      " 82: 31,\n",
      " 83: 20,\n",
      " 84: 21,\n",
      " 85: 23,\n",
      " 86: 24,\n",
      " 87: 24,\n",
      " 88: 16,\n",
      " 89: 14,\n",
      " 90: 17,\n",
      " 91: 22,\n",
      " 92: 19,\n",
      " 93: 15,\n",
      " 94: 14,\n",
      " 95: 12,\n",
      " 96: 15,\n",
      " 97: 9,\n",
      " 98: 13,\n",
      " 99: 15,\n",
      " 100: 14,\n",
      " 101: 10,\n",
      " 102: 12,\n",
      " 103: 6,\n",
      " 104: 8,\n",
      " 105: 7,\n",
      " 106: 10,\n",
      " 107: 7,\n",
      " 108: 14,\n",
      " 109: 19,\n",
      " 110: 8,\n",
      " 111: 6,\n",
      " 112: 11,\n",
      " 113: 8,\n",
      " 114: 6,\n",
      " 115: 10,\n",
      " 116: 3,\n",
      " 117: 7,\n",
      " 118: 6,\n",
      " 119: 7,\n",
      " 120: 7,\n",
      " 121: 6,\n",
      " 122: 2,\n",
      " 123: 7,\n",
      " 124: 6,\n",
      " 125: 2,\n",
      " 126: 5,\n",
      " 127: 6,\n",
      " 128: 5,\n",
      " 129: 8,\n",
      " 130: 6,\n",
      " 131: 5,\n",
      " 132: 2,\n",
      " 134: 2,\n",
      " 135: 2,\n",
      " 136: 4,\n",
      " 137: 2,\n",
      " 138: 2,\n",
      " 139: 7,\n",
      " 140: 5,\n",
      " 141: 6,\n",
      " 142: 3,\n",
      " 143: 5,\n",
      " 144: 2,\n",
      " 145: 2,\n",
      " 146: 4,\n",
      " 147: 1,\n",
      " 148: 4,\n",
      " 149: 6,\n",
      " 150: 3,\n",
      " 151: 2,\n",
      " 152: 3,\n",
      " 153: 3,\n",
      " 154: 2,\n",
      " 155: 4,\n",
      " 156: 3,\n",
      " 157: 2,\n",
      " 158: 2,\n",
      " 159: 1,\n",
      " 160: 3,\n",
      " 161: 2,\n",
      " 162: 3,\n",
      " 165: 2,\n",
      " 166: 3,\n",
      " 167: 1,\n",
      " 168: 2,\n",
      " 169: 2,\n",
      " 170: 1,\n",
      " 172: 5,\n",
      " 173: 2,\n",
      " 174: 3,\n",
      " 175: 1,\n",
      " 176: 2,\n",
      " 177: 1,\n",
      " 178: 2,\n",
      " 179: 2,\n",
      " 180: 4,\n",
      " 183: 3,\n",
      " 184: 7,\n",
      " 185: 1,\n",
      " 186: 1,\n",
      " 187: 4,\n",
      " 188: 3,\n",
      " 189: 2,\n",
      " 190: 3,\n",
      " 191: 1,\n",
      " 192: 2,\n",
      " 193: 2,\n",
      " 194: 1,\n",
      " 195: 1,\n",
      " 196: 2,\n",
      " 198: 1,\n",
      " 207: 1,\n",
      " 208: 1,\n",
      " 213: 2,\n",
      " 214: 1,\n",
      " 215: 3,\n",
      " 216: 2,\n",
      " 219: 3,\n",
      " 222: 1,\n",
      " 231: 2,\n",
      " 232: 2,\n",
      " 234: 1,\n",
      " 237: 1,\n",
      " 239: 2,\n",
      " 242: 1,\n",
      " 244: 1,\n",
      " 246: 1,\n",
      " 248: 2,\n",
      " 251: 1,\n",
      " 252: 1,\n",
      " 254: 3,\n",
      " 258: 1,\n",
      " 259: 1,\n",
      " 260: 1,\n",
      " 263: 1,\n",
      " 267: 1,\n",
      " 268: 1,\n",
      " 273: 1,\n",
      " 274: 1,\n",
      " 275: 1,\n",
      " 278: 1,\n",
      " 279: 1,\n",
      " 281: 1,\n",
      " 284: 2,\n",
      " 300: 1,\n",
      " 302: 1,\n",
      " 309: 1,\n",
      " 311: 1,\n",
      " 323: 1,\n",
      " 329: 2,\n",
      " 335: 1,\n",
      " 364: 1,\n",
      " 374: 2,\n",
      " 378: 1,\n",
      " 380: 2,\n",
      " 399: 1,\n",
      " 404: 1,\n",
      " 423: 1,\n",
      " 454: 1,\n",
      " 472: 1,\n",
      " 535: 1,\n",
      " 630: 1,\n",
      " 789: 1}\n"
     ]
    }
   ],
   "source": [
    "token_count_frequency = Counter(dataset['num_tokens'])\n",
    "sorted_token_count_frequency = dict(sorted(token_count_frequency.items()))\n",
    "pprint(sorted_token_count_frequency)"
   ]
  },
  {
   "cell_type": "code",
   "execution_count": 62,
   "metadata": {},
   "outputs": [
    {
     "name": "stdout",
     "output_type": "stream",
     "text": [
      "Mean: 48.85470366113939\n",
      "Median: 38\n",
      "Mode: 20\n"
     ]
    }
   ],
   "source": [
    "import statistics\n",
    "\n",
    "# Extract the num_tokens column\n",
    "num_tokens = dataset['num_tokens']\n",
    "\n",
    "# Calculate mean\n",
    "mean_tokens = statistics.mean(num_tokens)\n",
    "\n",
    "# Calculate median\n",
    "median_tokens = statistics.median(num_tokens)\n",
    "\n",
    "# Calculate mode\n",
    "mode_tokens = statistics.mode(num_tokens)\n",
    "\n",
    "print(f\"Mean: {mean_tokens}\")\n",
    "print(f\"Median: {median_tokens}\")\n",
    "print(f\"Mode: {mode_tokens}\")"
   ]
  },
  {
   "cell_type": "code",
   "execution_count": 19,
   "metadata": {},
   "outputs": [],
   "source": [
    "def make_histogram(dataset):\n",
    "  \n",
    "  num_tokens = []  # each sentence should add an integer to this list.\n",
    "\n",
    "  # Make a histogram of the lengths of sentences in the dataset.\n",
    "  pbar = tqdm(total=len(dataset), leave=True, position=0)\n",
    "  for entry in dataset:\n",
    "    tokens = entry['quote'].split()\n",
    "    num_tokens.append(len(tokens))\n",
    "    pbar.update()\n",
    "  pbar.close()\n",
    "\n",
    "  plt.figure()\n",
    "  plt.hist(num_tokens, bins=1000)\n",
    "  plt.xlabel('Number of tokens')\n",
    "  plt.xlim(0, 1000)\n",
    "  plt.show()\n",
    "  return num_tokens"
   ]
  },
  {
   "cell_type": "code",
   "execution_count": 20,
   "metadata": {},
   "outputs": [
    {
     "name": "stderr",
     "output_type": "stream",
     "text": [
      "100%|██████████| 6091/6091 [00:00<00:00, 12656.72it/s]\n"
     ]
    },
    {
     "data": {
      "image/png": "[encoded data removed]",
      "text/plain": [
       "<Figure size 640x480 with 1 Axes>"
      ]
     },
     "metadata": {},
     "output_type": "display_data"
    }
   ],
   "source": [
    "num_tokens = make_histogram(dataset)"
   ]
  },
  {
   "cell_type": "code",
   "execution_count": 58,
   "metadata": {},
   "outputs": [
    {
     "name": "stdout",
     "output_type": "stream",
     "text": [
      "[]\n"
     ]
    }
   ],
   "source": [
    "# Filter rows where num_tokens is equal to 1\n",
    "rows_with_one_token = [entry for entry in dataset if entry['num_tokens'] == 1]\n",
    "\n",
    "# Print the filtered rows\n",
    "pprint(rows_with_one_token)"
   ]
  },
  {
   "cell_type": "code",
   "execution_count": 21,
   "metadata": {},
   "outputs": [
    {
     "name": "stdout",
     "output_type": "stream",
     "text": [
      "1 quotes have 3 tokens.\n",
      "1 quotes has 789 tokens.\n"
     ]
    }
   ],
   "source": [
    "# Q: How many words is the shortest quote and how many quotes have that length?\n",
    "\n",
    "from collections import Counter\n",
    "\n",
    "token_counter = Counter(num_tokens)\n",
    "shortest = min(num_tokens)\n",
    "longest = max(num_tokens)\n",
    "\n",
    "num_shortest = token_counter[shortest]\n",
    "num_longest = token_counter[longest]\n",
    "\n",
    "print(f'{num_shortest} quotes have {shortest} tokens.')\n",
    "print(f'{num_longest} quotes has {longest} tokens.')"
   ]
  },
  {
   "cell_type": "code",
   "execution_count": 23,
   "metadata": {},
   "outputs": [
    {
     "name": "stdout",
     "output_type": "stream",
     "text": [
      "{'__index_level_0__': 277,\n",
      " 'id': None,\n",
      " 'label': '3_not_bad',\n",
      " 'language': 'en',\n",
      " 'quote': 'reefs are improving',\n",
      " 'source': 'FLICC',\n",
      " 'subsource': 'hamburg_test3',\n",
      " 'url': 'https://huggingface.co/datasets/fzanartu/FLICCdataset'}\n"
     ]
    }
   ],
   "source": [
    "# print out the shortest entry\n",
    "for entry in dataset:\n",
    "  if len(entry['quote'].split()) == shortest:\n",
    "    pprint(entry)"
   ]
  },
  {
   "cell_type": "code",
   "execution_count": 24,
   "metadata": {},
   "outputs": [],
   "source": [
    "# print out the longest entry\n",
    "\n",
    "max_tokens = 0\n",
    "longest_quote = None\n",
    "\n",
    "for entry in dataset:\n",
    "    tokens = entry['quote'].split()\n",
    "    if len(tokens) > max_tokens:\n",
    "        longest_quote = entry['quote']\n",
    "        max_tokens = len(tokens)"
   ]
  },
  {
   "cell_type": "code",
   "execution_count": 25,
   "metadata": {},
   "outputs": [
    {
     "name": "stdout",
     "output_type": "stream",
     "text": [
      "('Hubris is a Greek word that means dangerously overconfident. Based on my '\n",
      " 'research, hubris fairly describes our current response to the issue of '\n",
      " 'climate change Here’s what many people believe One: The planet is warming '\n",
      " 'catastrophically because of certain human behaviors Two: Thanks to powerful '\n",
      " 'computers we can project what the climate will be like 20, 40, or even 100 '\n",
      " 'years from now Three: That if we eliminate just one behavior, the burning of '\n",
      " 'fossil fuels, we can prevent the climate from changing for as long we like '\n",
      " 'Each of these presumptions—together, the basis of our hubris regarding the '\n",
      " 'changing climate—is either untrue or so far off the mark as to be useless '\n",
      " 'Yes, it’s true that the globe is warming, and that humans are exerting a '\n",
      " 'warming influence upon it. But beyond that, to paraphrase a line from the '\n",
      " 'classic movie The Princess Bride, ‘I do not think “The Science” says what '\n",
      " 'you think it says. For example, government reports state clearly that heat '\n",
      " 'waves in the US are now no more common than they were in 1900 Hurricane '\n",
      " 'activity is no different than it was a century ago Floods have not increased '\n",
      " 'across the globe over more than seventy years Greenland’s ice sheet isn’t '\n",
      " 'shrinking any more rapidly today than it was 80 years ago Why aren’t these '\n",
      " 'reassuring facts better known Because the public gets its climate '\n",
      " 'information almost exclusively from the media And from a media perspective, '\n",
      " 'fear sells ‘Things aren’t that bad’ doesn’t sell Very few people, and that '\n",
      " 'includes journalists who report on climate news, read the actual science. I '\n",
      " 'have. And what the data—the hard science—from the US government and UN '\n",
      " 'Climate reports say is that… ‘things aren’t that bad. Nor does the public '\n",
      " 'understand the questionable basis of all catastrophic climate change '\n",
      " 'projections: computer modeling Projecting future climate is excruciatingly '\n",
      " 'difficult. Yes, there are human influences, but the climate is complex. '\n",
      " 'Anyone who says that climate models are “just physics” either doesn’t '\n",
      " 'understand them or is being deliberately misleading. I should know: I wrote '\n",
      " 'one of the first textbooks on computer modeling While modelers base their '\n",
      " 'assumptions upon both fundamental physical laws and observations of the '\n",
      " 'climate, there is still considerable judgment involved. And since different '\n",
      " 'modelers will make different assumptions, results vary widely among '\n",
      " 'different models Let’s just take one simple, but significant assumption '\n",
      " 'modelers must make: the impact of clouds on the climate Natural fluctuations '\n",
      " 'in the height and coverage of clouds have at least as much of an impact on '\n",
      " 'the flows of sunlight and heat as do human influences. But how can we '\n",
      " 'possibly know global cloud coverage say 10, let alone 50 years from now? '\n",
      " 'Obviously, we can’t. But to create a climate model, we have to make '\n",
      " 'assumptions. That’s a pretty shaky foundation on which to transform the '\n",
      " 'world’s economy By the way, creating more accurate models isn’t getting any '\n",
      " 'easier. In fact, the more we learn about the climate system, the more we '\n",
      " 'realize how complex it is Rather than admit this complexity, the media, the '\n",
      " 'politicians, and a good portion of the climate science community attribute '\n",
      " 'every terrible storm, every flood, every major fire to ‘climate change.’ '\n",
      " 'Yes, we’ve always had these weather events in the past, the narrative goes, '\n",
      " 'but somehow ‘climate change’ is making everything ‘worse. Even if that were '\n",
      " 'true, isn’t the relevant question, how much worse? Not to mention that '\n",
      " '‘worse’ is not exactly a scientific term And how would we make it better For '\n",
      " 'the alarmists, that’s easy: we get rid of fossil fuels Not only is this '\n",
      " 'impractical—we get over 80% of the world’s energy from fossil fuels—it’s not '\n",
      " 'scientifically possible. That’s because CO2 doesn’t disappear from the '\n",
      " 'atmosphere in a few days like, say, smog. It hangs around for a really long '\n",
      " 'time About 60 percent of any CO2 that we emit today will remain in the '\n",
      " 'atmosphere 20 years from now, between 30 and 55 percent will still be there '\n",
      " 'after a century, and between 15 and 30 percent will remain after one '\n",
      " 'thousand years In other words, it takes centuries for the excess carbon '\n",
      " 'dioxide to vanish from the atmosphere. So, any partial reductions in CO2 '\n",
      " 'emissions would only slow the increase in human influences—not prevent it, '\n",
      " 'let alone reverse it CO2 is not a knob that we can just turn down to fix '\n",
      " 'everything. We don’t have that ability. To think that we do is… hubris '\n",
      " 'Hubris leads to bad decisions A little humility and a little knowledge would '\n",
      " 'lead to better ones I’m Steve Koonin, former Undersecretary for Science in '\n",
      " 'the Obama Administration, and author of Unsettled: What Climate Science '\n",
      " 'Tells Us, What It Doesn’t, and Why It Matters, for Prager University.')\n"
     ]
    }
   ],
   "source": [
    "pprint(longest_quote)"
   ]
  },
  {
   "cell_type": "code",
   "execution_count": 27,
   "metadata": {},
   "outputs": [
    {
     "name": "stdout",
     "output_type": "stream",
     "text": [
      "{'__index_level_0__': 4243,\n",
      " 'id': None,\n",
      " 'label': '5_science_unreliable',\n",
      " 'language': 'en',\n",
      " 'quote': 'Hubris is a Greek word that means dangerously overconfident. Based '\n",
      "          'on my research, hubris fairly describes our current response to the '\n",
      "          'issue of climate change Here’s what many people believe One: The '\n",
      "          'planet is warming catastrophically because of certain human '\n",
      "          'behaviors Two: Thanks to powerful computers we can project what the '\n",
      "          'climate will be like 20, 40, or even 100 years from now Three: That '\n",
      "          'if we eliminate just one behavior, the burning of fossil fuels, we '\n",
      "          'can prevent the climate from changing for as long we like Each of '\n",
      "          'these presumptions—together, the basis of our hubris regarding the '\n",
      "          'changing climate—is either untrue or so far off the mark as to be '\n",
      "          'useless Yes, it’s true that the globe is warming, and that humans '\n",
      "          'are exerting a warming influence upon it. But beyond that, to '\n",
      "          'paraphrase a line from the classic movie The Princess Bride, ‘I do '\n",
      "          'not think “The Science” says what you think it says. For example, '\n",
      "          'government reports state clearly that heat waves in the US are now '\n",
      "          'no more common than they were in 1900 Hurricane activity is no '\n",
      "          'different than it was a century ago Floods have not increased '\n",
      "          'across the globe over more than seventy years Greenland’s ice sheet '\n",
      "          'isn’t shrinking any more rapidly today than it was 80 years ago Why '\n",
      "          'aren’t these reassuring facts better known Because the public gets '\n",
      "          'its climate information almost exclusively from the media And from '\n",
      "          'a media perspective, fear sells ‘Things aren’t that bad’ doesn’t '\n",
      "          'sell Very few people, and that includes journalists who report on '\n",
      "          'climate news, read the actual science. I have. And what the '\n",
      "          'data—the hard science—from the US government and UN Climate reports '\n",
      "          'say is that… ‘things aren’t that bad. Nor does the public '\n",
      "          'understand the questionable basis of all catastrophic climate '\n",
      "          'change projections: computer modeling Projecting future climate is '\n",
      "          'excruciatingly difficult. Yes, there are human influences, but the '\n",
      "          'climate is complex. Anyone who says that climate models are “just '\n",
      "          'physics” either doesn’t understand them or is being deliberately '\n",
      "          'misleading. I should know: I wrote one of the first textbooks on '\n",
      "          'computer modeling While modelers base their assumptions upon both '\n",
      "          'fundamental physical laws and observations of the climate, there is '\n",
      "          'still considerable judgment involved. And since different modelers '\n",
      "          'will make different assumptions, results vary widely among '\n",
      "          'different models Let’s just take one simple, but significant '\n",
      "          'assumption modelers must make: the impact of clouds on the climate '\n",
      "          'Natural fluctuations in the height and coverage of clouds have at '\n",
      "          'least as much of an impact on the flows of sunlight and heat as do '\n",
      "          'human influences. But how can we possibly know global cloud '\n",
      "          'coverage say 10, let alone 50 years from now? Obviously, we can’t. '\n",
      "          'But to create a climate model, we have to make assumptions. That’s '\n",
      "          'a pretty shaky foundation on which to transform the world’s economy '\n",
      "          'By the way, creating more accurate models isn’t getting any easier. '\n",
      "          'In fact, the more we learn about the climate system, the more we '\n",
      "          'realize how complex it is Rather than admit this complexity, the '\n",
      "          'media, the politicians, and a good portion of the climate science '\n",
      "          'community attribute every terrible storm, every flood, every major '\n",
      "          'fire to ‘climate change.’ Yes, we’ve always had these weather '\n",
      "          'events in the past, the narrative goes, but somehow ‘climate '\n",
      "          'change’ is making everything ‘worse. Even if that were true, isn’t '\n",
      "          'the relevant question, how much worse? Not to mention that ‘worse’ '\n",
      "          'is not exactly a scientific term And how would we make it better '\n",
      "          'For the alarmists, that’s easy: we get rid of fossil fuels Not only '\n",
      "          'is this impractical—we get over 80% of the world’s energy from '\n",
      "          'fossil fuels—it’s not scientifically possible. That’s because CO2 '\n",
      "          'doesn’t disappear from the atmosphere in a few days like, say, '\n",
      "          'smog. It hangs around for a really long time About 60 percent of '\n",
      "          'any CO2 that we emit today will remain in the atmosphere 20 years '\n",
      "          'from now, between 30 and 55 percent will still be there after a '\n",
      "          'century, and between 15 and 30 percent will remain after one '\n",
      "          'thousand years In other words, it takes centuries for the excess '\n",
      "          'carbon dioxide to vanish from the atmosphere. So, any partial '\n",
      "          'reductions in CO2 emissions would only slow the increase in human '\n",
      "          'influences—not prevent it, let alone reverse it CO2 is not a knob '\n",
      "          'that we can just turn down to fix everything. We don’t have that '\n",
      "          'ability. To think that we do is… hubris Hubris leads to bad '\n",
      "          'decisions A little humility and a little knowledge would lead to '\n",
      "          'better ones I’m Steve Koonin, former Undersecretary for Science in '\n",
      "          'the Obama Administration, and author of Unsettled: What Climate '\n",
      "          'Science Tells Us, What It Doesn’t, and Why It Matters, for Prager '\n",
      "          'University.',\n",
      " 'source': 'Desmog',\n",
      " 'subsource': None,\n",
      " 'url': 'https://www.desmog.com/steve-koonin/'}\n"
     ]
    }
   ],
   "source": [
    "# print out the longest entry\n",
    "for entry in dataset:\n",
    "  if len(entry['quote'].split()) == longest:\n",
    "    pprint(entry)"
   ]
  },
  {
   "cell_type": "code",
   "execution_count": 28,
   "metadata": {},
   "outputs": [
    {
     "data": {
      "image/png": "[encoded data removed]",
      "text/plain": [
       "<Figure size 640x480 with 1 Axes>"
      ]
     },
     "metadata": {},
     "output_type": "display_data"
    }
   ],
   "source": [
    "# Re-plot the histogram in log frequency space.\n",
    "plt.figure()\n",
    "plt.hist(num_tokens, bins=1000, log=True)\n",
    "plt.xlabel('Number of tokens')\n",
    "plt.ylabel('Log frequency')\n",
    "plt.show()"
   ]
  },
  {
   "cell_type": "markdown",
   "metadata": {},
   "source": [
    "### Vocabulary Analysis"
   ]
  },
  {
   "cell_type": "code",
   "execution_count": 30,
   "metadata": {},
   "outputs": [
    {
     "name": "stderr",
     "output_type": "stream",
     "text": [
      "100%|██████████| 6091/6091 [00:00<00:00, 9861.17it/s] \n"
     ]
    },
    {
     "data": {
      "image/png": "[encoded data removed]",
      "text/plain": [
       "<Figure size 640x480 with 1 Axes>"
      ]
     },
     "metadata": {},
     "output_type": "display_data"
    }
   ],
   "source": [
    "from collections import defaultdict\n",
    "\n",
    "vocab = defaultdict(lambda: 0)\n",
    "# after 0 sentences, vocab size is at 0.\n",
    "vocab_sizes = [0]\n",
    "\n",
    "# Plot the vocabulary against the number of sentences.\n",
    "for i in tqdm(range(len(dataset)), leave=True, position=0):\n",
    "  entry = dataset[i]\n",
    "  tokens = entry['quote'].split()\n",
    "  for token in tokens:\n",
    "    vocab[token] += 1\n",
    "  vocab_sizes.append(len(vocab))\n",
    "\n",
    "plt.figure()\n",
    "plt.plot(vocab_sizes)\n",
    "plt.xlabel('index')\n",
    "plt.ylabel('vocab size')\n",
    "plt.show()"
   ]
  },
  {
   "cell_type": "markdown",
   "metadata": {},
   "source": [
    "* How big is the vocabulary size?\n",
    "* How big is the vocabulary for words appearing more than once?\n",
    "* How big is the vocabulary for words appearing more than three times?"
   ]
  },
  {
   "cell_type": "code",
   "execution_count": 31,
   "metadata": {},
   "outputs": [
    {
     "name": "stdout",
     "output_type": "stream",
     "text": [
      "30807 words in vocab.\n",
      "14009 words appearing > 1 times.\n",
      "7035 words appearing > 3 times.\n"
     ]
    }
   ],
   "source": [
    "print(f'{len(vocab)} words in vocab.')\n",
    "print(f'{len([k for k in vocab if vocab[k] > 1])} words appearing > 1 times.')\n",
    "print(f'{len([k for k in vocab if vocab[k] > 3])} words appearing > 3 times.')"
   ]
  },
  {
   "cell_type": "markdown",
   "metadata": {},
   "source": [
    "Looks like vocabulary continues to grow as a function of the dataset size. There are more than 30k unique words in the vocabulary!"
   ]
  },
  {
   "cell_type": "code",
   "execution_count": null,
   "metadata": {},
   "outputs": [
    {
     "name": "stdout",
     "output_type": "stream",
     "text": [
      "Most frequent:\n",
      "['the' 'of' 'to' 'and' 'is' 'a' 'that' 'in' 'climate' 'for' 'are' 'on'\n",
      " 'not' 'have' 'it' 'be' 'The' 'I' 'as' 'we' 'by' 'has' 'with' 'global'\n",
      " 'will' 'this' 'from' 'warming' 'change' 'or' 'about' 'you' 'more' 'they'\n",
      " 'our' 'an' 'at' 'been' 'no' 'than' 'all' 'was' 'would' 'carbon' 'but'\n",
      " 'energy' 'there' 'their' 'do' 'CO2' 'can' 'what' 'We' 'which' 'people'\n",
      " 'It' 'who' 'if' 'so' 'think' 'one' 'And' 'should' 'years' 'other'\n",
      " 'dioxide' 'because' 'temperature' 'its' 'any' 'over' 'these' 'only'\n",
      " 'even' 'out' 'science' 'it’s' 'going' 'emissions' 'Climate' 'like' '–'\n",
      " 'much' 'just' 'In' 'very' 'This' 'when' 'gas' 'most' 'some' 'natural'\n",
      " 'don’t' 'were' 'But' '[…]' 'he' 'scientific' 'human' 'many' 'how' 'also'\n",
      " 'greenhouse' 'up' 'make' 'If' 'There' 'need' 'being' 'those'\n",
      " 'environmental']\n",
      "\n",
      "Least frequent:\n",
      "['requires.' 'catastrophists,' 'fortunately.' 'cynical' 'distraction,'\n",
      " 'Times).' 'regenerative' 'It’s,' 'based,' '“scientific”' 'ratifying'\n",
      " 'sterling' 'negotiating' 'outset.' 'ontent' 'ideologically' 'windmill,'\n",
      " 'aquariums' 'revolutionize' 'dissemination.' 'outlet' 'voices.'\n",
      " 'regurgitation' 'wavered' 'flopped' 'saltwater' 'maths:' 'rainy'\n",
      " 'monkeys' 'gases.”' 'stripped' 'eco-facists.' 'been?' 'trade-off.'\n",
      " 'marginalized' 'distressing.' 'Press.' 'Noreaster' 'chant' 'are]' '‘new’'\n",
      " '127+' 'reactions' 'Macleans.' 'grouse,”' 'movement]' '“Ice' 'dioxide”'\n",
      " 'possible,”' '1984,' 'CO2-focused' 'emergency..' 'adelaide' 'case!'\n",
      " 'Chinese?' 'Indians.' 'dependents,”' 'century;' 'imperfect.'\n",
      " 'obliterated' 'belied' '16-year' 'furniture' 'contradict'\n",
      " 'interpretations.' 'rev' '\"gift\"' 'eveyone' 'cO2' 'Japan.' '\"Stop' 'US?'\n",
      " 'Davey' 'Rogner,' 'Djembe' 'taste.' '[Pruitt’s]' 'said—what' 'academic,'\n",
      " 'said—and' 'Warming!\"' '#FreeTrade' '#TrumpUKVisit'\n",
      " '#specialrelationship.' 'Minnesota' '[temperatures' 'refrain,'\n",
      " 'introduce,' 'defend,' 'excludes' 'businessentity' 'solely,' 'primarily,'\n",
      " 'seen,' 'regard.' 'stupendous' 'fixed.' 'thoroughness.' 'citations'\n",
      " 'concept:']\n"
     ]
    }
   ],
   "source": [
    "most_frequent = []\n",
    "least_frequent = []\n",
    "\n",
    "# Print the most frequent 100 words, and the least frequent 100 words.\n",
    "words = np.array(list(vocab.keys()))\n",
    "counts = np.array([vocab[w] for w in words])\n",
    "words_ordered = words[np.argsort(counts)[::-1]]\n",
    "most_frequent = words_ordered[:111]\n",
    "least_frequent = words_ordered[-100:]\n",
    "\n",
    "print('Most frequent:')\n",
    "print(most_frequent)\n",
    "print()\n",
    "print('Least frequent:')\n",
    "print(least_frequent)"
   ]
  },
  {
   "cell_type": "markdown",
   "metadata": {},
   "source": [
    "### Data Balancing"
   ]
  },
  {
   "cell_type": "code",
   "execution_count": 34,
   "metadata": {},
   "outputs": [
    {
     "name": "stdout",
     "output_type": "stream",
     "text": [
      "Counter({'0_not_relevant': 1618,\n",
      "         '5_science_unreliable': 801,\n",
      "         '6_proponents_biased': 782,\n",
      "         '4_solutions_harmful_unnecessary': 774,\n",
      "         '1_not_happening': 741,\n",
      "         '2_not_human': 702,\n",
      "         '3_not_bad': 386,\n",
      "         '7_fossil_fuels_needed': 287})\n"
     ]
    }
   ],
   "source": [
    "from collections import Counter\n",
    "\n",
    "labels = [entry['label'] for entry in dataset]\n",
    "labels = Counter(labels)\n",
    "pprint(labels)"
   ]
  },
  {
   "cell_type": "code",
   "execution_count": 35,
   "metadata": {},
   "outputs": [
    {
     "data": {
      "image/png": "[encoded data removed]",
      "text/plain": [
       "<Figure size 1000x600 with 1 Axes>"
      ]
     },
     "metadata": {},
     "output_type": "display_data"
    }
   ],
   "source": [
    "# Sort the labels by their count\n",
    "sorted_labels = dict(sorted(labels.items(), key=lambda item: item[1]))\n",
    "\n",
    "plt.figure(figsize=(10, 6))\n",
    "plt.bar(sorted_labels.keys(), sorted_labels.values())\n",
    "plt.xlabel('Labels')\n",
    "plt.ylabel('Count')\n",
    "plt.title('Distribution of Labels')\n",
    "plt.xticks(rotation=75)\n",
    "plt.show()"
   ]
  },
  {
   "cell_type": "markdown",
   "metadata": {},
   "source": [
    "The imbalance jumps out. There is a lot of `0_not_relevant` quotes than anything else. Since there is a lot of general discussion in the media other than climate topics, it makes sense."
   ]
  },
  {
   "cell_type": "code",
   "execution_count": 56,
   "metadata": {},
   "outputs": [
    {
     "name": "stdout",
     "output_type": "stream",
     "text": [
      "{'__index_level_0__': [1109, 100, 4086, 3639],\n",
      " 'id': [None, None, None, None],\n",
      " 'label': ['0_not_relevant', '6_proponents_biased', '3_not_bad', '2_not_human'],\n",
      " 'language': ['en', 'en', 'en', 'en'],\n",
      " 'num_tokens': [26, 46, 41, 42],\n",
      " 'quote': ['Interesting to note that Oklahoma minimum temperatures in 2011 '\n",
      "           'were in the bottom ten, including the coldest Oklahoma temperature '\n",
      "           'ever recorded, -31F on February 10, 2011.',\n",
      "           'REPORT ON GEO ENGINEERING A.k.a. man-made FAKE climate change '\n",
      "           'a.k.a. Chemtrails! We are sick and tired of the media not '\n",
      "           'reporting this issue which is blocking out our sun and making our '\n",
      "           'sky a pasty white color! This is the reason for the green new '\n",
      "           'deal!!!',\n",
      "           'To realize, yes, climate change is a real problem, but it’s not '\n",
      "           'this catastrophic end of the world. There is nothing in the UN '\n",
      "           'climate panel, the new report that came out from 2021–2022, these '\n",
      "           '1600 pages. No apocalypse in there.',\n",
      "           'The fluctuations in the carbon dioxide concentration appear to '\n",
      "           'track those in temperature to a remarkable degree, but a closer '\n",
      "           'look reveals that the fluctuations generally lag behind those in '\n",
      "           'temperature. Never does a changing carbon dioxide concentration '\n",
      "           'precede that of temperature.'],\n",
      " 'source': ['FLICC', 'FLICC', 'Desmog', 'Desmog'],\n",
      " 'subsource': ['CARDS', 'hamburg_test3', None, None],\n",
      " 'url': ['https://huggingface.co/datasets/fzanartu/FLICCdataset',\n",
      "         'https://huggingface.co/datasets/fzanartu/FLICCdataset',\n",
      "         'https://www.desmog.com/jordan-peterson/',\n",
      "         'https://www.desmog.com/harry-n-a-priem/']}\n"
     ]
    }
   ],
   "source": [
    "pprint(dataset[:4])"
   ]
  },
  {
   "cell_type": "code",
   "execution_count": 6,
   "metadata": {},
   "outputs": [],
   "source": [
    "from openai import OpenAI\n",
    "from dotenv import dotenv_values\n",
    "\n",
    "config = dotenv_values(\".env\")"
   ]
  },
  {
   "cell_type": "code",
   "execution_count": 7,
   "metadata": {},
   "outputs": [],
   "source": [
    "client=OpenAI(api_key=config['OPENAI_API_KEY'])"
   ]
  },
  {
   "cell_type": "code",
   "execution_count": 28,
   "metadata": {},
   "outputs": [],
   "source": [
    "def get_embeddings(texts, model=\"text-embedding-3-small\", batch_size=1000):\n",
    "    embeddings = []\n",
    "    for batch_start in range(0, len(texts), batch_size):\n",
    "        batch_end = batch_start + batch_size\n",
    "        batch = texts[batch_start:batch_end]\n",
    "        print(f\"Batch {batch_start} to {batch_end-1}\")\n",
    "        response = client.embeddings.create(model=model, input=batch)\n",
    "        for i, be in enumerate(response.data):\n",
    "            assert i == be.index  # double check embeddings are in same order as input\n",
    "        batch_embeddings = [e.embedding for e in response.data]\n",
    "        embeddings.extend(batch_embeddings)\n",
    "    return embeddings"
   ]
  },
  {
   "cell_type": "code",
   "execution_count": 23,
   "metadata": {},
   "outputs": [
    {
     "name": "stdout",
     "output_type": "stream",
     "text": [
      "Batch 0 to 999\n",
      "Batch 1000 to 1999\n",
      "Batch 2000 to 2999\n",
      "Batch 3000 to 3999\n",
      "Batch 4000 to 4999\n",
      "Batch 5000 to 5999\n",
      "Batch 6000 to 6999\n"
     ]
    }
   ],
   "source": [
    "# Use the function to get embeddings for the 'quote' column\n",
    "quotes = dataset['quote']\n",
    "embeddings = get_embeddings(quotes)"
   ]
  },
  {
   "cell_type": "code",
   "execution_count": 34,
   "metadata": {},
   "outputs": [
    {
     "data": {
      "text/plain": [
       "6091"
      ]
     },
     "execution_count": 34,
     "metadata": {},
     "output_type": "execute_result"
    }
   ],
   "source": [
    "len(embeddings)"
   ]
  },
  {
   "cell_type": "code",
   "execution_count": 32,
   "metadata": {},
   "outputs": [
    {
     "data": {
      "text/plain": [
       "[-0.02947874739766121,\n",
       " 0.03932640701532364,\n",
       " -0.00835980474948883,\n",
       " -0.013412080705165863,\n",
       " -0.013957983814179897,\n",
       " 0.014364735223352909,\n",
       " 0.003963146824389696,\n",
       " -0.062425583600997925,\n",
       " 0.012170420028269291,\n",
       " 0.03027084283530712]"
      ]
     },
     "execution_count": 32,
     "metadata": {},
     "output_type": "execute_result"
    }
   ],
   "source": [
    "embeddings[0][:10]"
   ]
  },
  {
   "cell_type": "code",
   "execution_count": 35,
   "metadata": {},
   "outputs": [],
   "source": [
    "updated_dataset = dataset.add_column('embedding', embeddings)"
   ]
  },
  {
   "cell_type": "code",
   "execution_count": 36,
   "metadata": {},
   "outputs": [
    {
     "data": {
      "text/plain": [
       "['quote',\n",
       " 'label',\n",
       " 'source',\n",
       " 'url',\n",
       " 'language',\n",
       " 'subsource',\n",
       " 'id',\n",
       " '__index_level_0__',\n",
       " 'num_tokens',\n",
       " 'embedding']"
      ]
     },
     "execution_count": 36,
     "metadata": {},
     "output_type": "execute_result"
    }
   ],
   "source": [
    "updated_dataset.column_names"
   ]
  },
  {
   "cell_type": "code",
   "execution_count": 38,
   "metadata": {},
   "outputs": [
    {
     "data": {
      "text/plain": [
       "{'quote': Value(dtype='string', id=None),\n",
       " 'label': Value(dtype='string', id=None),\n",
       " 'source': Value(dtype='string', id=None),\n",
       " 'url': Value(dtype='string', id=None),\n",
       " 'language': Value(dtype='string', id=None),\n",
       " 'subsource': Value(dtype='string', id=None),\n",
       " 'id': Value(dtype='null', id=None),\n",
       " '__index_level_0__': Value(dtype='int64', id=None),\n",
       " 'num_tokens': Value(dtype='int64', id=None),\n",
       " 'embedding': Sequence(feature=Value(dtype='float64', id=None), length=-1, id=None)}"
      ]
     },
     "execution_count": 38,
     "metadata": {},
     "output_type": "execute_result"
    }
   ],
   "source": [
    "updated_dataset.info.features"
   ]
  },
  {
   "cell_type": "code",
   "execution_count": 39,
   "metadata": {},
   "outputs": [],
   "source": [
    "remove_columns = ['source', 'url', 'language', 'subsource', 'id', '__index_level_0__', 'num_tokens']"
   ]
  },
  {
   "cell_type": "code",
   "execution_count": 48,
   "metadata": {},
   "outputs": [],
   "source": [
    "updated_dataset = updated_dataset.remove_columns(remove_columns)"
   ]
  },
  {
   "cell_type": "code",
   "execution_count": 49,
   "metadata": {},
   "outputs": [
    {
     "data": {
      "text/plain": [
       "['quote', 'label_names']"
      ]
     },
     "execution_count": 49,
     "metadata": {},
     "output_type": "execute_result"
    }
   ],
   "source": [
    "updated_dataset.column_names"
   ]
  },
  {
   "cell_type": "code",
   "execution_count": 42,
   "metadata": {},
   "outputs": [
    {
     "data": {
      "text/plain": [
       "{'quote': 'Interesting to note that Oklahoma minimum temperatures in 2011 were in the bottom ten, including the coldest Oklahoma temperature ever recorded, -31F on February 10, 2011.',\n",
       " 'label': '0_not_relevant',\n",
       " 'embedding': [-0.02947874739766121,\n",
       "  0.03932640701532364,\n",
       "  -0.00835980474948883,\n",
       "  -0.013412080705165863,\n",
       "  -0.013957983814179897,\n",
       "  0.014364735223352909,\n",
       "  0.003963146824389696,\n",
       "  -0.062425583600997925,\n",
       "  0.012170420028269291,\n",
       "  0.03027084283530712,\n",
       "  -0.010345391929149628,\n",
       "  -0.03453102335333824,\n",
       "  -0.04786817729473114,\n",
       "  0.02376282587647438,\n",
       "  0.024961670860648155,\n",
       "  0.01929926685988903,\n",
       "  0.04377925768494606,\n",
       "  0.03658618777990341,\n",
       "  -0.06071294844150543,\n",
       "  0.025454053655266762,\n",
       "  -0.044999513775110245,\n",
       "  -0.05120781809091568,\n",
       "  -0.04525640606880188,\n",
       "  -0.023612970486283302,\n",
       "  0.03799911215901375,\n",
       "  -0.037207018584012985,\n",
       "  -0.018806884065270424,\n",
       "  -0.04397192969918251,\n",
       "  0.01834661327302456,\n",
       "  0.019631091505289078,\n",
       "  0.0008897679508663714,\n",
       "  -0.026481635868549347,\n",
       "  -0.019909394904971123,\n",
       "  0.0011640572920441628,\n",
       "  0.011356918141245842,\n",
       "  -0.04876731336116791,\n",
       "  0.036093804985284805,\n",
       "  -0.02094767987728119,\n",
       "  0.05189287289977074,\n",
       "  -0.05069402605295181,\n",
       "  -0.007401798851788044,\n",
       "  0.011656628921627998,\n",
       "  -0.0034573839511722326,\n",
       "  0.013690384104847908,\n",
       "  -0.00025806616758927703,\n",
       "  0.013883056119084358,\n",
       "  0.023976905271410942,\n",
       "  -0.021964557468891144,\n",
       "  0.010602287948131561,\n",
       "  -0.017672263085842133,\n",
       "  -0.027337953448295593,\n",
       "  0.032176148146390915,\n",
       "  -0.0024030425120145082,\n",
       "  -0.05416211485862732,\n",
       "  -0.0015467244666069746,\n",
       "  0.02299213968217373,\n",
       "  0.028172863647341728,\n",
       "  0.019738130271434784,\n",
       "  0.09299613535404205,\n",
       "  -0.03078463301062584,\n",
       "  0.018303798511624336,\n",
       "  -0.03784925863146782,\n",
       "  0.021407950669527054,\n",
       "  0.04009709134697914,\n",
       "  0.06289655715227127,\n",
       "  -0.025689540430903435,\n",
       "  0.016815945506095886,\n",
       "  0.03264712542295456,\n",
       "  0.01875336468219757,\n",
       "  0.03605099022388458,\n",
       "  -0.00398990698158741,\n",
       "  0.02224286086857319,\n",
       "  0.028172863647341728,\n",
       "  -0.04881012812256813,\n",
       "  0.025753764435648918,\n",
       "  0.020883455872535706,\n",
       "  0.016559049487113953,\n",
       "  -0.03260431066155434,\n",
       "  0.0019160115625709295,\n",
       "  -0.046840596944093704,\n",
       "  -0.018453653901815414,\n",
       "  -0.0004669609188567847,\n",
       "  0.03179080784320831,\n",
       "  0.01046848762780428,\n",
       "  -0.036072395741939545,\n",
       "  -0.029286077246069908,\n",
       "  -0.014439662918448448,\n",
       "  0.004142438527196646,\n",
       "  -0.021964557468891144,\n",
       "  0.012866178527474403,\n",
       "  -0.047568466514348984,\n",
       "  0.001154022291302681,\n",
       "  0.04910983890295029,\n",
       "  0.002524800132960081,\n",
       "  0.025518277660012245,\n",
       "  0.007225183304399252,\n",
       "  0.06859107315540314,\n",
       "  0.0042146905325353146,\n",
       "  -0.03825600817799568,\n",
       "  -0.03138405457139015,\n",
       "  -0.05900031328201294,\n",
       "  -0.0456845685839653,\n",
       "  0.022949323058128357,\n",
       "  0.034402575343847275,\n",
       "  -0.015713436529040337,\n",
       "  0.035344526171684265,\n",
       "  -0.05155034363269806,\n",
       "  -0.03660759702324867,\n",
       "  -0.004682989325374365,\n",
       "  0.02297073043882847,\n",
       "  0.021771885454654694,\n",
       "  -0.05022305250167847,\n",
       "  -0.027423584833741188,\n",
       "  -0.01816464588046074,\n",
       "  -0.009301754646003246,\n",
       "  0.012502242811024189,\n",
       "  -0.06593649089336395,\n",
       "  -0.014782190322875977,\n",
       "  -0.015852587297558784,\n",
       "  -0.034081459045410156,\n",
       "  0.004361869767308235,\n",
       "  0.017757894471287727,\n",
       "  -0.012191828340291977,\n",
       "  0.01948123425245285,\n",
       "  -0.034423984587192535,\n",
       "  -0.0034894959535449743,\n",
       "  -0.005311847664415836,\n",
       "  0.011421142145991325,\n",
       "  -0.025475461035966873,\n",
       "  -0.07317237555980682,\n",
       "  0.030527736991643906,\n",
       "  -0.03602958098053932,\n",
       "  0.03097730502486229,\n",
       "  0.00963892973959446,\n",
       "  0.004889040719717741,\n",
       "  -0.009205418638885021,\n",
       "  0.03149109706282616,\n",
       "  -0.009478369727730751,\n",
       "  0.04876731336116791,\n",
       "  -0.013861647807061672,\n",
       "  -0.012887585908174515,\n",
       "  0.007305463310331106,\n",
       "  0.042559005320072174,\n",
       "  0.02041248045861721,\n",
       "  0.008183188736438751,\n",
       "  0.011913524940609932,\n",
       "  0.014996269717812538,\n",
       "  0.029050588607788086,\n",
       "  0.0775396004319191,\n",
       "  -0.02708105742931366,\n",
       "  0.029029181227087975,\n",
       "  -0.006465201266109943,\n",
       "  0.005175372119992971,\n",
       "  -0.014000799506902695,\n",
       "  0.012951809912919998,\n",
       "  0.018646325916051865,\n",
       "  0.020337553694844246,\n",
       "  0.015274573117494583,\n",
       "  0.021193871274590492,\n",
       "  -0.027166688814759254,\n",
       "  0.005421563517302275,\n",
       "  -0.05364832282066345,\n",
       "  0.026824161410331726,\n",
       "  0.024533512070775032,\n",
       "  0.03690730780363083,\n",
       "  0.05322016403079033,\n",
       "  -0.008862891234457493,\n",
       "  0.0014584166929125786,\n",
       "  -0.05369114130735397,\n",
       "  -0.03583690896630287,\n",
       "  0.04300857335329056,\n",
       "  0.010190184228122234,\n",
       "  0.020348256453871727,\n",
       "  0.014792894013226032,\n",
       "  -0.031020119786262512,\n",
       "  0.014814302325248718,\n",
       "  -0.009756673127412796,\n",
       "  0.018881812691688538,\n",
       "  -0.016291450709104538,\n",
       "  0.012662802822887897,\n",
       "  0.0026251499075442553,\n",
       "  -0.04658370092511177,\n",
       "  0.009762025438249111,\n",
       "  -0.02002713829278946,\n",
       "  -0.010077793151140213,\n",
       "  0.03318232297897339,\n",
       "  0.015681324526667595,\n",
       "  -0.03767799213528633,\n",
       "  -0.005683810915797949,\n",
       "  -0.05133626610040665,\n",
       "  -0.013444192707538605,\n",
       "  0.03881261497735977,\n",
       "  -0.04215225577354431,\n",
       "  -0.0068130805157125,\n",
       "  0.002159527037292719,\n",
       "  0.00625647371634841,\n",
       "  0.030185211449861526,\n",
       "  -0.04735438525676727,\n",
       "  0.020487409085035324,\n",
       "  -0.00663646450266242,\n",
       "  -0.0016845380887389183,\n",
       "  0.030099578201770782,\n",
       "  0.007755029946565628,\n",
       "  0.004131734371185303,\n",
       "  -0.0016765100881457329,\n",
       "  -0.02414816804230213,\n",
       "  0.027038242667913437,\n",
       "  0.014086431823670864,\n",
       "  -0.012234644033014774,\n",
       "  0.017918454483151436,\n",
       "  0.030292250216007233,\n",
       "  0.049238286912441254,\n",
       "  0.0430942066013813,\n",
       "  0.043308284133672714,\n",
       "  0.09607888013124466,\n",
       "  0.008129669353365898,\n",
       "  -0.06088421121239662,\n",
       "  -0.027937375009059906,\n",
       "  -0.019727427512407303,\n",
       "  0.029842684045433998,\n",
       "  -0.036115214228630066,\n",
       "  -0.031448278576135635,\n",
       "  0.021279502660036087,\n",
       "  0.022135820239782333,\n",
       "  -0.0113248061388731,\n",
       "  0.009788785129785538,\n",
       "  -0.031234201043844223,\n",
       "  0.030013946816325188,\n",
       "  0.053177349269390106,\n",
       "  0.007599822711199522,\n",
       "  -0.04949518293142319,\n",
       "  -0.013155185617506504,\n",
       "  -0.009109082631766796,\n",
       "  0.003069364931434393,\n",
       "  -0.03354625776410103,\n",
       "  0.0100028645247221,\n",
       "  -0.02020910568535328,\n",
       "  -0.004450177773833275,\n",
       "  -0.0014477126533165574,\n",
       "  0.001058355555869639,\n",
       "  -0.04915265366435051,\n",
       "  -0.05270637571811676,\n",
       "  -0.01595962792634964,\n",
       "  0.04940954968333244,\n",
       "  0.004158494528383017,\n",
       "  -0.04427164047956467,\n",
       "  0.013797423802316189,\n",
       "  -0.021236687898635864,\n",
       "  0.005501843523234129,\n",
       "  0.02260679565370083,\n",
       "  0.005624939221888781,\n",
       "  0.005416211672127247,\n",
       "  0.009890473447740078,\n",
       "  -0.0485532321035862,\n",
       "  0.015531468205153942,\n",
       "  -0.0385771282017231,\n",
       "  0.012876882217824459,\n",
       "  -0.00843473244458437,\n",
       "  0.02577517181634903,\n",
       "  -0.005833666771650314,\n",
       "  -0.03153391182422638,\n",
       "  -0.028665246441960335,\n",
       "  0.016484122723340988,\n",
       "  0.03465947136282921,\n",
       "  -0.03641492500901222,\n",
       "  0.0007358983275480568,\n",
       "  -0.021225983276963234,\n",
       "  0.008156429044902325,\n",
       "  -0.019802354276180267,\n",
       "  0.01574554853141308,\n",
       "  -0.022178636863827705,\n",
       "  0.021204575896263123,\n",
       "  0.04401474818587303,\n",
       "  0.003350344253703952,\n",
       "  -0.008696979843080044,\n",
       "  0.012031268328428268,\n",
       "  0.025454053655266762,\n",
       "  0.0178007110953331,\n",
       "  -0.03191925585269928,\n",
       "  0.04392911493778229,\n",
       "  -0.003931034822016954,\n",
       "  0.0037704752758145332,\n",
       "  0.0013968688435852528,\n",
       "  -0.0300353541970253,\n",
       "  -0.006336753256618977,\n",
       "  -0.022328492254018784,\n",
       "  -0.0004201310221105814,\n",
       "  0.03380315378308296,\n",
       "  0.006871952209621668,\n",
       "  -0.03690730780363083,\n",
       "  -0.004918476566672325,\n",
       "  0.01858210191130638,\n",
       "  0.008445436134934425,\n",
       "  0.015060493722558022,\n",
       "  0.0006696674390695989,\n",
       "  0.02613910846412182,\n",
       "  -0.004450177773833275,\n",
       "  0.0006807059398852289,\n",
       "  0.0033985122572630644,\n",
       "  -0.02727372944355011,\n",
       "  0.0013125749537721276,\n",
       "  0.005667754914611578,\n",
       "  -0.01908518746495247,\n",
       "  0.013861647807061672,\n",
       "  0.023056363686919212,\n",
       "  -0.007867421954870224,\n",
       "  -0.002128753112629056,\n",
       "  0.008038685657083988,\n",
       "  -0.03894106298685074,\n",
       "  0.0037918833550065756,\n",
       "  0.029821274802088737,\n",
       "  0.0648660883307457,\n",
       "  0.03179080784320831,\n",
       "  0.004139762371778488,\n",
       "  -0.04910983890295029,\n",
       "  -0.0011399734066799283,\n",
       "  0.015445836819708347,\n",
       "  -0.0025421942118555307,\n",
       "  -0.01120706181973219,\n",
       "  -0.00010946487600449473,\n",
       "  -0.027552032843232155,\n",
       "  -0.0631534531712532,\n",
       "  -0.004808760713785887,\n",
       "  0.04082496091723442,\n",
       "  -0.00855247676372528,\n",
       "  0.048339154571294785,\n",
       "  0.008568531833589077,\n",
       "  0.012780546210706234,\n",
       "  -0.03709997981786728,\n",
       "  -0.018293093889951706,\n",
       "  -0.07193071395158768,\n",
       "  -0.028900733217597008,\n",
       "  0.0004131065506953746,\n",
       "  0.06439511477947235,\n",
       "  0.00853642076253891,\n",
       "  0.054461825639009476,\n",
       "  0.0077175660990178585,\n",
       "  0.03613661974668503,\n",
       "  0.015627803280949593,\n",
       "  0.02297073043882847,\n",
       "  -0.05480435490608215,\n",
       "  0.04157423973083496,\n",
       "  -0.013701088726520538,\n",
       "  0.02115105465054512,\n",
       "  -0.006700688507407904,\n",
       "  -0.0252399742603302,\n",
       "  -0.024576326832175255,\n",
       "  -0.0062618255615234375,\n",
       "  -0.004661581479012966,\n",
       "  0.003197812708094716,\n",
       "  0.03204770386219025,\n",
       "  0.022499756887555122,\n",
       "  0.012523651123046875,\n",
       "  0.01725480891764164,\n",
       "  -0.004773973021656275,\n",
       "  0.012095492333173752,\n",
       "  0.0022371308878064156,\n",
       "  0.021215278655290604,\n",
       "  -0.03919795900583267,\n",
       "  0.010971575044095516,\n",
       "  -0.03583690896630287,\n",
       "  -0.0032513325568288565,\n",
       "  0.0619974248111248,\n",
       "  -0.017886342480778694,\n",
       "  0.06739223003387451,\n",
       "  -0.04123171418905258,\n",
       "  -0.05989944562315941,\n",
       "  -0.028087232261896133,\n",
       "  0.0027201478369534016,\n",
       "  0.00991188082844019,\n",
       "  -0.008322340436279774,\n",
       "  -0.015103309415280819,\n",
       "  -0.03840586543083191,\n",
       "  0.019962914288043976,\n",
       "  -0.015552876517176628,\n",
       "  0.03361048176884651,\n",
       "  -0.020476704463362694,\n",
       "  -0.0056409952230751514,\n",
       "  0.026974018663167953,\n",
       "  0.01577766053378582,\n",
       "  -0.04043962061405182,\n",
       "  0.007910237647593021,\n",
       "  0.05360550805926323,\n",
       "  0.015895403921604156,\n",
       "  0.012277459725737572,\n",
       "  -0.02596784383058548,\n",
       "  -0.007899533957242966,\n",
       "  -0.043500956147909164,\n",
       "  -0.06516580283641815,\n",
       "  0.015060493722558022,\n",
       "  0.03365330025553703,\n",
       "  -0.0026077560614794493,\n",
       "  -0.012363091111183167,\n",
       "  -0.018464356660842896,\n",
       "  0.014803597703576088,\n",
       "  0.05514688044786453,\n",
       "  -0.038298822939395905,\n",
       "  0.02969282679259777,\n",
       "  -0.012566466815769672,\n",
       "  0.033482033759355545,\n",
       "  -0.03211192786693573,\n",
       "  -0.0020471352618187666,\n",
       "  0.0023267767392098904,\n",
       "  -0.029007773846387863,\n",
       "  -0.003674139501526952,\n",
       "  -0.006486609112471342,\n",
       "  0.020519521087408066,\n",
       "  0.016633978113532066,\n",
       "  0.023120587691664696,\n",
       "  -0.04099622741341591,\n",
       "  -0.032946836203336716,\n",
       "  -0.03855571895837784,\n",
       "  0.0007900871569290757,\n",
       "  -0.04365081340074539,\n",
       "  -0.04046102613210678,\n",
       "  -0.020476704463362694,\n",
       "  -0.023334667086601257,\n",
       "  0.028151454403996468,\n",
       "  -0.038662757724523544,\n",
       "  0.01169944554567337,\n",
       "  -0.00085832504555583,\n",
       "  0.020851343870162964,\n",
       "  0.038876838982105255,\n",
       "  0.018325205892324448,\n",
       "  -0.004969320725649595,\n",
       "  -0.04782536253333092,\n",
       "  0.006176193710416555,\n",
       "  -0.01084312703460455,\n",
       "  0.022521164268255234,\n",
       "  -0.0021193870343267918,\n",
       "  -0.00834374874830246,\n",
       "  0.006743504665791988,\n",
       "  -0.03510903939604759,\n",
       "  0.013850944116711617,\n",
       "  -0.040717922151088715,\n",
       "  -0.06311064213514328,\n",
       "  -0.06422385573387146,\n",
       "  0.058529336005449295,\n",
       "  0.026759939268231392,\n",
       "  -0.02802300825715065,\n",
       "  0.01580977253615856,\n",
       "  0.008830779232084751,\n",
       "  -0.00037296663504093885,\n",
       "  -0.03022802621126175,\n",
       "  -0.023291850462555885,\n",
       "  0.014803597703576088,\n",
       "  -0.032946836203336716,\n",
       "  -0.0027535976842045784,\n",
       "  0.030934488400816917,\n",
       "  -0.010457783937454224,\n",
       "  0.00695758406072855,\n",
       "  0.006433089263737202,\n",
       "  -0.01709424890577793,\n",
       "  -0.02673853002488613,\n",
       "  -0.024362247437238693,\n",
       "  0.00458665331825614,\n",
       "  0.02188962884247303,\n",
       "  -0.014311214908957481,\n",
       "  -0.0020203753374516964,\n",
       "  0.012973218224942684,\n",
       "  -0.021001199260354042,\n",
       "  -0.02099049650132656,\n",
       "  0.00023180796415545046,\n",
       "  -0.024811815470457077,\n",
       "  -0.030292250216007233,\n",
       "  0.008948523551225662,\n",
       "  0.0014664445770904422,\n",
       "  0.04632680490612984,\n",
       "  -0.019384900107979774,\n",
       "  -0.003957794979214668,\n",
       "  -0.04305138811469078,\n",
       "  0.011624516919255257,\n",
       "  -0.034445393830537796,\n",
       "  0.006326049566268921,\n",
       "  0.027166688814759254,\n",
       "  0.008386564441025257,\n",
       "  0.03594394773244858,\n",
       "  0.0029864092357456684,\n",
       "  0.04773972928524017,\n",
       "  0.010056384839117527,\n",
       "  0.03911232575774193,\n",
       "  -0.021985964849591255,\n",
       "  -0.025646725669503212,\n",
       "  -0.042922940105199814,\n",
       "  -0.02043388970196247,\n",
       "  -0.06174052879214287,\n",
       "  0.011410437524318695,\n",
       "  0.008696979843080044,\n",
       "  -0.05326298251748085,\n",
       "  -0.013444192707538605,\n",
       "  -0.024961670860648155,\n",
       "  0.007150255609303713,\n",
       "  0.01853928528726101,\n",
       "  -0.007348279003053904,\n",
       "  0.030934488400816917,\n",
       "  0.034231312572956085,\n",
       "  0.03343921899795532,\n",
       "  -0.020626559853553772,\n",
       "  0.0152103491127491,\n",
       "  0.013561937026679516,\n",
       "  0.028815101832151413,\n",
       "  -0.0038962471298873425,\n",
       "  -0.0015440484276041389,\n",
       "  0.0029328891541808844,\n",
       "  0.019813058897852898,\n",
       "  0.02652445062994957,\n",
       "  0.024019720032811165,\n",
       "  0.019342083483934402,\n",
       "  -0.0035751278046518564,\n",
       "  0.020904863253235817,\n",
       "  0.02470477484166622,\n",
       "  0.08083642274141312,\n",
       "  -0.0397331565618515,\n",
       "  -0.015221052803099155,\n",
       "  0.011838596314191818,\n",
       "  0.02823708765208721,\n",
       "  0.032411638647317886,\n",
       "  0.027937375009059906,\n",
       "  -0.04636961966753006,\n",
       "  0.018988851457834244,\n",
       "  -0.013776016421616077,\n",
       "  -0.0016698201652616262,\n",
       "  0.02894354984164238,\n",
       "  -0.02819427102804184,\n",
       "  -0.004597357474267483,\n",
       "  0.006941528059542179,\n",
       "  0.006722096353769302,\n",
       "  0.020337553694844246,\n",
       "  -0.010398912243545055,\n",
       "  -0.05347706004977226,\n",
       "  0.020487409085035324,\n",
       "  -0.01760803908109665,\n",
       "  -0.024447878822684288,\n",
       "  0.04786817729473114,\n",
       "  -0.016633978113532066,\n",
       "  0.014546702615916729,\n",
       "  0.03543015941977501,\n",
       "  -0.011913524940609932,\n",
       "  -0.02487603947520256,\n",
       "  -0.056516990065574646,\n",
       "  0.04210943728685379,\n",
       "  -0.0021969908848404884,\n",
       "  0.020326849073171616,\n",
       "  -0.042773086577653885,\n",
       "  0.017757894471287727,\n",
       "  0.04131734371185303,\n",
       "  -0.019802354276180267,\n",
       "  0.038470085710287094,\n",
       "  -0.03326795622706413,\n",
       "  -0.019962914288043976,\n",
       "  -0.007091383915394545,\n",
       "  0.027766112238168716,\n",
       "  0.0053171999752521515,\n",
       "  0.018057607114315033,\n",
       "  -0.04598427936434746,\n",
       "  -0.0015895403921604156,\n",
       "  0.0027937376871705055,\n",
       "  -0.006989696063101292,\n",
       "  0.021247390657663345,\n",
       "  -0.021632734686136246,\n",
       "  0.04431445896625519,\n",
       "  -0.04696904495358467,\n",
       "  -0.004650877323001623,\n",
       "  0.019363490864634514,\n",
       "  0.01188141293823719,\n",
       "  -0.02262820303440094,\n",
       "  -0.004685665015131235,\n",
       "  0.022671019658446312,\n",
       "  -0.02616051584482193,\n",
       "  -0.0003475447010714561,\n",
       "  0.007685454096645117,\n",
       "  -0.050908107310533524,\n",
       "  -0.004592005629092455,\n",
       "  -0.058358073234558105,\n",
       "  -0.027380768209695816,\n",
       "  -0.007059271913021803,\n",
       "  0.03746391460299492,\n",
       "  -0.0007098073838278651,\n",
       "  0.02541123703122139,\n",
       "  0.035879723727703094,\n",
       "  0.015285276807844639,\n",
       "  0.003612591652199626,\n",
       "  -0.0037972352001816034,\n",
       "  0.007819253951311111,\n",
       "  -0.019224340096116066,\n",
       "  0.0043511660769581795,\n",
       "  0.006989696063101292,\n",
       "  0.029821274802088737,\n",
       "  0.008413325063884258,\n",
       "  0.0006703364779241383,\n",
       "  -0.031469687819480896,\n",
       "  0.01328363362699747,\n",
       "  0.004501021467149258,\n",
       "  -0.01705143228173256,\n",
       "  -0.014782190322875977,\n",
       "  0.024169577285647392,\n",
       "  -0.01982376165688038,\n",
       "  0.018592804670333862,\n",
       "  -0.008670220151543617,\n",
       "  0.00769615825265646,\n",
       "  -0.00449566962197423,\n",
       "  -0.019716722890734673,\n",
       "  -0.02560390904545784,\n",
       "  0.031298425048589706,\n",
       "  0.036115214228630066,\n",
       "  0.03044210560619831,\n",
       "  0.060969844460487366,\n",
       "  0.007203775458037853,\n",
       "  -0.028301311656832695,\n",
       "  0.001993615413084626,\n",
       "  -0.03474510461091995,\n",
       "  -0.03804192692041397,\n",
       "  -0.022906506434082985,\n",
       "  0.03431694582104683,\n",
       "  -0.040525250136852264,\n",
       "  0.008975283242762089,\n",
       "  0.016259338706731796,\n",
       "  0.009622873738408089,\n",
       "  0.009414146654307842,\n",
       "  -0.018635621294379234,\n",
       "  -0.03549438342452049,\n",
       "  -0.006053098011761904,\n",
       "  -0.00760517455637455,\n",
       "  -0.0012871529906988144,\n",
       "  0.017511703073978424,\n",
       "  -0.02633177861571312,\n",
       "  -0.01783282309770584,\n",
       "  0.00398990698158741,\n",
       "  0.0315767265856266,\n",
       "  -0.008199244737625122,\n",
       "  0.017543815076351166,\n",
       "  0.01598103530704975,\n",
       "  -0.003914978820830584,\n",
       "  0.003537663957104087,\n",
       "  -0.01593821868300438,\n",
       "  -0.019160116091370583,\n",
       "  0.0032218964770436287,\n",
       "  0.007846013642847538,\n",
       "  -0.004985376726835966,\n",
       "  -0.03994723781943321,\n",
       "  -0.027616256847977638,\n",
       "  0.012973218224942684,\n",
       "  -0.013294337317347527,\n",
       "  -0.010992982424795628,\n",
       "  0.03538734093308449,\n",
       "  -0.021193871274590492,\n",
       "  -0.05257792770862579,\n",
       "  -0.005667754914611578,\n",
       "  -0.0017434100154787302,\n",
       "  -0.03209051862359047,\n",
       "  -0.0010851154802367091,\n",
       "  0.025710949674248695,\n",
       "  0.0024284643586724997,\n",
       "  0.02618192322552204,\n",
       "  -0.011817188933491707,\n",
       "  0.009376682341098785,\n",
       "  -0.010473839938640594,\n",
       "  0.0034279481042176485,\n",
       "  -0.030656185001134872,\n",
       "  -0.012202532030642033,\n",
       "  -0.015092605724930763,\n",
       "  0.0050843884237110615,\n",
       "  0.024961670860648155,\n",
       "  0.005164667963981628,\n",
       "  0.031469687819480896,\n",
       "  -0.0014209527289494872,\n",
       "  0.03733546659350395,\n",
       "  -0.02765907160937786,\n",
       "  0.029799867421388626,\n",
       "  0.018838996067643166,\n",
       "  -0.019010260701179504,\n",
       "  -0.05364832282066345,\n",
       "  0.00034486872027628124,\n",
       "  0.044614169746637344,\n",
       "  0.061355188488960266,\n",
       "  0.02785174362361431,\n",
       "  0.01816464588046074,\n",
       "  -0.020294737070798874,\n",
       "  -0.021011903882026672,\n",
       "  -0.05022305250167847,\n",
       "  0.026267556473612785,\n",
       "  0.01671960949897766,\n",
       "  -0.020744305104017258,\n",
       "  -0.025710949674248695,\n",
       "  -0.041081856936216354,\n",
       "  -0.018111126497387886,\n",
       "  0.025111526250839233,\n",
       "  0.016205819323658943,\n",
       "  0.0023441705852746964,\n",
       "  -0.05934283882379532,\n",
       "  0.019716722890734673,\n",
       "  0.014600221998989582,\n",
       "  0.02284228429198265,\n",
       "  -0.013754608109593391,\n",
       "  0.002408394357189536,\n",
       "  0.05120781809091568,\n",
       "  -0.04058947414159775,\n",
       "  0.01030257623642683,\n",
       "  0.015831179916858673,\n",
       "  0.023998312652111053,\n",
       "  0.005368043668568134,\n",
       "  0.035901132971048355,\n",
       "  0.0020498111844062805,\n",
       "  0.009676394052803516,\n",
       "  0.012159716337919235,\n",
       "  0.003583155805245042,\n",
       "  -0.003799911355599761,\n",
       "  -0.029650012031197548,\n",
       "  0.006946879904717207,\n",
       "  0.03161954507231712,\n",
       "  0.0075516547076404095,\n",
       "  -0.008033333346247673,\n",
       "  0.00993864145129919,\n",
       "  -0.00947301834821701,\n",
       "  0.007669398561120033,\n",
       "  0.02019840106368065,\n",
       "  -0.021664846688508987,\n",
       "  0.06957583874464035,\n",
       "  -0.024233799427747726,\n",
       "  -0.009622873738408089,\n",
       "  -0.01801479049026966,\n",
       "  -0.004476937931030989,\n",
       "  0.04131734371185303,\n",
       "  -0.017372552305459976,\n",
       "  0.029757050797343254,\n",
       "  -0.022692427039146423,\n",
       "  -0.01335856132209301,\n",
       "  0.019759537652134895,\n",
       "  -0.016762426123023033,\n",
       "  -0.034081459045410156,\n",
       "  0.006090561859309673,\n",
       "  0.032176148146390915,\n",
       "  -0.02633177861571312,\n",
       "  0.046283990144729614,\n",
       "  -0.04709749296307564,\n",
       "  -0.0030586610082536936,\n",
       "  -0.009494425728917122,\n",
       "  0.03485214337706566,\n",
       "  0.01576695591211319,\n",
       "  0.03024943359196186,\n",
       "  0.023891273885965347,\n",
       "  -0.005822962615638971,\n",
       "  0.018646325916051865,\n",
       "  -0.035323116928339005,\n",
       "  0.06499453634023666,\n",
       "  0.017661558464169502,\n",
       "  -0.020690783858299255,\n",
       "  -0.018817588686943054,\n",
       "  -0.028515391051769257,\n",
       "  -0.03508763015270233,\n",
       "  -0.023270443081855774,\n",
       "  0.004455529619008303,\n",
       "  -0.022200044244527817,\n",
       "  0.005392127670347691,\n",
       "  0.004198634531348944,\n",
       "  0.049794893711805344,\n",
       "  0.007840662263333797,\n",
       "  -0.004447501618415117,\n",
       "  -0.04341532289981842,\n",
       "  -0.007610526401549578,\n",
       "  -0.012887585908174515,\n",
       "  0.00855247676372528,\n",
       "  -0.012759138830006123,\n",
       "  0.013401377014815807,\n",
       "  0.0019093216396868229,\n",
       "  -0.016023851931095123,\n",
       "  -0.044785432517528534,\n",
       "  -0.03303246945142746,\n",
       "  -0.014525294303894043,\n",
       "  0.02152569405734539,\n",
       "  0.01930997148156166,\n",
       "  -0.022713836282491684,\n",
       "  -0.0020297414157539606,\n",
       "  0.04594146087765694,\n",
       "  -0.003987230826169252,\n",
       "  0.028815101832151413,\n",
       "  -0.004032722674310207,\n",
       "  -0.004688341170549393,\n",
       "  -0.012609283439815044,\n",
       "  0.06662154197692871,\n",
       "  -0.04056806489825249,\n",
       "  -0.06867670267820358,\n",
       "  0.017929159104824066,\n",
       "  0.027038242667913437,\n",
       "  -0.007631934247910976,\n",
       "  -0.0011406423291191459,\n",
       "  0.01168874092400074,\n",
       "  0.023998312652111053,\n",
       "  0.02043388970196247,\n",
       "  -0.01872125267982483,\n",
       "  0.00035456917248666286,\n",
       "  -0.05865778401494026,\n",
       "  -0.028151454403996468,\n",
       "  0.0032754165586084127,\n",
       "  0.02650304324924946,\n",
       "  -0.0035456919576972723,\n",
       "  0.018496468663215637,\n",
       "  -0.04881012812256813,\n",
       "  0.027359360828995705,\n",
       "  -0.02579658105969429,\n",
       "  0.0013259549159556627,\n",
       "  0.0011707473313435912,\n",
       "  -0.017169175669550896,\n",
       "  -0.049281101673841476,\n",
       "  -0.02596784383058548,\n",
       "  0.019449124112725258,\n",
       "  -0.011710149236023426,\n",
       "  -0.01224534772336483,\n",
       "  0.01854998990893364,\n",
       "  -0.0038641351275146008,\n",
       "  -0.07000400125980377,\n",
       "  0.008953875862061977,\n",
       "  0.0002978715638164431,\n",
       "  0.027701888233423233,\n",
       "  0.005673106759786606,\n",
       "  0.02024121768772602,\n",
       "  0.0036768156569451094,\n",
       "  -0.014354030601680279,\n",
       "  -0.005865778308361769,\n",
       "  -0.022114412859082222,\n",
       "  0.012652099132537842,\n",
       "  -0.01690157689154148,\n",
       "  0.027723295614123344,\n",
       "  -0.010944814421236515,\n",
       "  0.009644282050430775,\n",
       "  -0.0456845685839653,\n",
       "  -0.02560390904545784,\n",
       "  0.01801479049026966,\n",
       "  -0.015328092500567436,\n",
       "  0.021193871274590492,\n",
       "  -0.012223939411342144,\n",
       "  -0.0035911838058382273,\n",
       "  -0.0024298024363815784,\n",
       "  0.0037330114282667637,\n",
       "  0.0034520321059972048,\n",
       "  -0.008204597048461437,\n",
       "  0.02449069544672966,\n",
       "  0.0036045636516064405,\n",
       "  -0.0021354430355131626,\n",
       "  0.007203775458037853,\n",
       "  0.017725782468914986,\n",
       "  -0.004776649177074432,\n",
       "  -0.05052276328206062,\n",
       "  0.011817188933491707,\n",
       "  0.014268399216234684,\n",
       "  -0.021654142066836357,\n",
       "  -0.03399582579731941,\n",
       "  0.018678437918424606,\n",
       "  0.024212392047047615,\n",
       "  0.03525889664888382,\n",
       "  -0.012084788642823696,\n",
       "  -0.0027535976842045784,\n",
       "  0.027980191633105278,\n",
       "  0.009339218959212303,\n",
       "  0.03746391460299492,\n",
       "  0.017864935100078583,\n",
       "  -0.026267556473612785,\n",
       "  0.03525889664888382,\n",
       "  0.002775005530565977,\n",
       "  -0.04594146087765694,\n",
       "  0.007428559008985758,\n",
       "  0.019213635474443436,\n",
       "  0.009713857434689999,\n",
       "  -0.0024913502857089043,\n",
       "  -0.014214878901839256,\n",
       "  0.016848057508468628,\n",
       "  0.000400395569158718,\n",
       "  -0.01213830802589655,\n",
       "  -0.02171836607158184,\n",
       "  -0.0069040642119944096,\n",
       "  -0.022906506434082985,\n",
       "  -0.023891273885965347,\n",
       "  -0.023505929857492447,\n",
       "  0.007508838549256325,\n",
       "  0.014257695525884628,\n",
       "  -0.00469101732596755,\n",
       "  0.018657028675079346,\n",
       "  -0.05274919047951698,\n",
       "  0.006063802167773247,\n",
       "  0.03149109706282616,\n",
       "  -0.0023294526617974043,\n",
       "  0.03322513774037361,\n",
       "  0.02967141941189766,\n",
       "  0.003154996782541275,\n",
       "  -0.0008964579319581389,\n",
       "  -0.03209051862359047,\n",
       "  -0.04305138811469078,\n",
       "  -0.001978897489607334,\n",
       "  0.007300110999494791,\n",
       "  -0.028301311656832695,\n",
       "  0.011988452635705471,\n",
       "  -0.019384900107979774,\n",
       "  0.016633978113532066,\n",
       "  0.015702731907367706,\n",
       "  0.003152320859953761,\n",
       "  -0.03744250535964966,\n",
       "  -0.0031764046289026737,\n",
       "  -0.022585388273000717,\n",
       "  0.015659915283322334,\n",
       "  0.024169577285647392,\n",
       "  0.018892517313361168,\n",
       "  0.01558498851954937,\n",
       "  -0.010907351039350033,\n",
       "  0.042173661291599274,\n",
       "  0.005903242621570826,\n",
       "  -0.008113613352179527,\n",
       "  0.0013915167655795813,\n",
       "  -0.009494425728917122,\n",
       "  -0.01930997148156166,\n",
       "  0.045170776546001434,\n",
       "  0.024726182222366333,\n",
       "  0.027594847604632378,\n",
       "  -0.0216862540692091,\n",
       "  0.03836304694414139,\n",
       "  0.02855820581316948,\n",
       "  0.030549146234989166,\n",
       "  -0.01982376165688038,\n",
       "  -0.00843473244458437,\n",
       "  0.00765869440510869,\n",
       "  -0.02352733723819256,\n",
       "  0.007444615010172129,\n",
       "  -0.0009265628759749234,\n",
       "  -0.0030880968552082777,\n",
       "  -0.0068933600559830666,\n",
       "  0.012373795732855797,\n",
       "  0.01447177492082119,\n",
       "  -0.04279449209570885,\n",
       "  -0.039775971323251724,\n",
       "  0.004359194077551365,\n",
       "  -0.00384807912632823,\n",
       "  -0.021557806059718132,\n",
       "  -0.003098800778388977,\n",
       "  -0.030699001625180244,\n",
       "  -0.0036794915795326233,\n",
       "  0.022371308878064156,\n",
       "  0.024255208671092987,\n",
       "  -0.0021193870343267918,\n",
       "  0.024768998846411705,\n",
       "  -0.01690157689154148,\n",
       "  0.019524050876498222,\n",
       "  -0.029564380645751953,\n",
       "  0.01057017594575882,\n",
       "  0.021054718643426895,\n",
       "  0.004875660873949528,\n",
       "  -0.022307084873318672,\n",
       "  0.018828293308615685,\n",
       "  -0.0009004719322547317,\n",
       "  0.007294759154319763,\n",
       "  0.0033556963317096233,\n",
       "  0.010291872546076775,\n",
       "  -0.006379569415003061,\n",
       "  -0.027359360828995705,\n",
       "  -0.02616051584482193,\n",
       "  0.018325205892324448,\n",
       "  0.002143471036106348,\n",
       "  -0.018421541899442673,\n",
       "  0.01298392191529274,\n",
       "  -0.017554519698023796,\n",
       "  0.013422785326838493,\n",
       "  -0.031105753034353256,\n",
       "  -0.006700688507407904,\n",
       "  0.03577268496155739,\n",
       "  -0.0013848268426954746,\n",
       "  -0.001357397879473865,\n",
       "  -0.00845078844577074,\n",
       "  -0.014407550916075706,\n",
       "  0.01169944554567337,\n",
       "  -0.017479591071605682,\n",
       "  0.044143196195364,\n",
       "  0.035365935415029526,\n",
       "  0.004514401778578758,\n",
       "  -0.017961271107196808,\n",
       "  0.049323920160532,\n",
       "  -0.012309571728110313,\n",
       "  0.016377082094550133,\n",
       "  0.0024873362854123116,\n",
       "  0.029393116012215614,\n",
       "  0.006144081708043814,\n",
       "  -0.006936176214367151,\n",
       "  -0.017661558464169502,\n",
       "  0.00816178135573864,\n",
       "  0.04791099205613136,\n",
       "  0.021225983276963234,\n",
       "  -0.0564313568174839,\n",
       "  0.03290402144193649,\n",
       "  0.028322719037532806,\n",
       "  0.0019467854872345924,\n",
       "  0.008948523551225662,\n",
       "  0.02374141663312912,\n",
       "  0.018592804670333862,\n",
       "  0.032754164189100266,\n",
       "  -0.051464714109897614,\n",
       "  -0.0035724518820643425,\n",
       "  0.012384499423205853,\n",
       "  0.006133378017693758,\n",
       "  0.012116899713873863,\n",
       "  0.01457881461828947,\n",
       "  0.049837708473205566,\n",
       "  0.004056806676089764,\n",
       "  -0.016023851931095123,\n",
       "  ...]}"
      ]
     },
     "execution_count": 42,
     "metadata": {},
     "output_type": "execute_result"
    }
   ],
   "source": [
    "updated_dataset[0]"
   ]
  },
  {
   "cell_type": "code",
   "execution_count": 43,
   "metadata": {},
   "outputs": [
    {
     "data": {
      "text/plain": [
       "{'quote': Value(dtype='string', id=None),\n",
       " 'label': Value(dtype='string', id=None),\n",
       " 'embedding': Sequence(feature=Value(dtype='float64', id=None), length=-1, id=None)}"
      ]
     },
     "execution_count": 43,
     "metadata": {},
     "output_type": "execute_result"
    }
   ],
   "source": [
    "updated_dataset.info.features"
   ]
  },
  {
   "cell_type": "code",
   "execution_count": 45,
   "metadata": {},
   "outputs": [],
   "source": [
    "updated_dataset = dataset.rename_column(\"label\", \"label_names\")"
   ]
  },
  {
   "cell_type": "code",
   "execution_count": 47,
   "metadata": {},
   "outputs": [
    {
     "data": {
      "text/plain": [
       "{'quote': Value(dtype='string', id=None),\n",
       " 'label_names': Value(dtype='string', id=None),\n",
       " 'source': Value(dtype='string', id=None),\n",
       " 'url': Value(dtype='string', id=None),\n",
       " 'language': Value(dtype='string', id=None),\n",
       " 'subsource': Value(dtype='string', id=None),\n",
       " 'id': Value(dtype='null', id=None),\n",
       " '__index_level_0__': Value(dtype='int64', id=None),\n",
       " 'num_tokens': Value(dtype='int64', id=None)}"
      ]
     },
     "execution_count": 47,
     "metadata": {},
     "output_type": "execute_result"
    }
   ],
   "source": [
    "updated_dataset.info.features"
   ]
  },
  {
   "cell_type": "code",
   "execution_count": 44,
   "metadata": {},
   "outputs": [],
   "source": [
    "# Define the label mapping\n",
    "LABEL_MAPPING = {\n",
    "    \"0_not_relevant\": 0,\n",
    "    \"1_not_happening\": 1,\n",
    "    \"2_not_human\": 2,\n",
    "    \"3_not_bad\": 3,\n",
    "    \"4_solutions_harmful_unnecessary\": 4,\n",
    "    \"5_science_unreliable\": 5,\n",
    "    \"6_proponents_biased\": 6,\n",
    "    \"7_fossil_fuels_needed\": 7\n",
    "}"
   ]
  },
  {
   "cell_type": "code",
   "execution_count": null,
   "metadata": {},
   "outputs": [],
   "source": [
    "# Convert string labels to integers\n",
    "dataset = dataset.map(lambda x: {\"label\": LABEL_MAPPING[x[\"label\"]]})"
   ]
  },
  {
   "cell_type": "markdown",
   "metadata": {},
   "source": []
  },
  {
   "cell_type": "markdown",
   "metadata": {},
   "source": []
  },
  {
   "cell_type": "code",
   "execution_count": 67,
   "metadata": {},
   "outputs": [],
   "source": []
  },
  {
   "cell_type": "code",
   "execution_count": 68,
   "metadata": {},
   "outputs": [],
   "source": []
  }
 ],
 "metadata": {
  "kernelspec": {
   "display_name": "frugal-ai",
   "language": "python",
   "name": "python3"
  },
  "language_info": {
   "codemirror_mode": {
    "name": "ipython",
    "version": 3
   },
   "file_extension": ".py",
   "mimetype": "text/x-python",
   "name": "python",
   "nbconvert_exporter": "python",
   "pygments_lexer": "ipython3",
   "version": "3.12.1"
  }
 },
 "nbformat": 4,
 "nbformat_minor": 2
}
